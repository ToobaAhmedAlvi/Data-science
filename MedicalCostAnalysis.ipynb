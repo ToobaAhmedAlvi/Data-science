{
  "nbformat": 4,
  "nbformat_minor": 0,
  "metadata": {
    "colab": {
      "provenance": [],
      "collapsed_sections": [],
      "authorship_tag": "ABX9TyM+uJw5sFuHOSAY+SAz7M5l",
      "include_colab_link": true
    },
    "kernelspec": {
      "name": "python3",
      "display_name": "Python 3"
    },
    "language_info": {
      "name": "python"
    }
  },
  "cells": [
    {
      "cell_type": "markdown",
      "metadata": {
        "id": "view-in-github",
        "colab_type": "text"
      },
      "source": [
        "<a href=\"https://colab.research.google.com/github/ToobaAhmedAlvi/Data-science/blob/main/MedicalCostAnalysis.ipynb\" target=\"_parent\"><img src=\"https://colab.research.google.com/assets/colab-badge.svg\" alt=\"Open In Colab\"/></a>"
      ]
    },
    {
      "cell_type": "markdown",
      "source": [
        "## **MEDICAL COST ANALYSIS**"
      ],
      "metadata": {
        "id": "EcXNGZUsIqvi"
      }
    },
    {
      "cell_type": "markdown",
      "source": [
        "Dataset: https://www.kaggle.com/datasets/mirichoi0218/insurance\n",
        "* In this project, you will be trying to develop an end-to-end data science application using the dataset given above. The aim of the project is to estimate the approximate cost of a person's health insurance based on the given variables. While creating the project, try to follow the instructions below and make sure that the project is unique."
      ],
      "metadata": {
        "id": "69NYAW8bLCIP"
      }
    },
    {
      "cell_type": "markdown",
      "source": [
        "# 1. CREATE A GOOGLE COLABORATORY FILE"
      ],
      "metadata": {
        "id": "URB-HNddBB0D"
      }
    },
    {
      "cell_type": "markdown",
      "source": [
        "\n",
        "1.   Make sure your project has .ipynb extension.\n",
        "\n",
        "2.   Make sure that there are comment lines explaining the details in your project.\n",
        "\n",
        "3.   When submitting the project, submit the cells of this .ipynb file so that the cells are run and the results are visible.\n",
        "\n",
        "\n",
        "\n",
        "\n"
      ],
      "metadata": {
        "id": "w9c-3RABBzab"
      }
    },
    {
      "cell_type": "markdown",
      "source": [
        "# 2. IMPORTING REQUIRED LIBRARIES"
      ],
      "metadata": {
        "id": "Y5wi1_wKBQmx"
      }
    },
    {
      "cell_type": "markdown",
      "source": [
        "1.   Import the required libraries for the project to the Colab environment.\n",
        "\n",
        "2.   Import Pandas, NumPy, Seaborn, Matplotlib and Sklearn libraries for data analysis\n",
        "\n"
      ],
      "metadata": {
        "id": "XFMtH5jECPjG"
      }
    },
    {
      "cell_type": "code",
      "source": [
        "import pandas as pd\n",
        "import numpy as np\n",
        "import plotly.express as ex\n",
        "from scipy.stats import chi2_contingency\n",
        "import statsmodels.api as sm\n",
        "from statsmodels.formula.api import ols\n",
        "import matplotlib.pyplot as plt\n",
        "import seaborn as sns\n",
        "import warnings\n",
        "from sklearn.preprocessing import StandardScaler\n",
        "from sklearn.model_selection import train_test_split, cross_val_score, KFold, GridSearchCV\n",
        "from sklearn.feature_selection import RFECV\n",
        "from sklearn.linear_model import LinearRegression, Ridge, Lasso, ElasticNet\n",
        "from sklearn.metrics import r2_score\n",
        "from sklearn.svm import SVR\n",
        "from sklearn.neighbors import KNeighborsRegressor\n",
        "from sklearn.tree import DecisionTreeRegressor\n",
        "from sklearn.ensemble import RandomForestRegressor, BaggingRegressor, AdaBoostRegressor\n",
        "from xgboost import XGBRegressor\n",
        "from lightgbm import LGBMRegressor"
      ],
      "metadata": {
        "id": "QRDT0bEVA_HT"
      },
      "execution_count": 1,
      "outputs": []
    },
    {
      "cell_type": "code",
      "source": [
        "from sklearn.linear_model import LogisticRegression\n",
        "classifier1 = LogisticRegression(random_state = 42)\n",
        "classifier1.fit(X_train,y_train)\n",
        "y_pred = classifier1.predict(X_test)"
      ],
      "metadata": {
        "colab": {
          "base_uri": "https://localhost:8080/",
          "height": 363
        },
        "id": "YmfmEbnlgY71",
        "outputId": "a743ddda-a3bb-4593-848a-294b09f10c72"
      },
      "execution_count": 31,
      "outputs": [
        {
          "output_type": "error",
          "ename": "ValueError",
          "evalue": "ignored",
          "traceback": [
            "\u001b[0;31m---------------------------------------------------------------------------\u001b[0m",
            "\u001b[0;31mValueError\u001b[0m                                Traceback (most recent call last)",
            "\u001b[0;32m<ipython-input-31-8f2cf696692a>\u001b[0m in \u001b[0;36m<module>\u001b[0;34m\u001b[0m\n\u001b[1;32m      1\u001b[0m \u001b[0;32mfrom\u001b[0m \u001b[0msklearn\u001b[0m\u001b[0;34m.\u001b[0m\u001b[0mlinear_model\u001b[0m \u001b[0;32mimport\u001b[0m \u001b[0mLogisticRegression\u001b[0m\u001b[0;34m\u001b[0m\u001b[0;34m\u001b[0m\u001b[0m\n\u001b[1;32m      2\u001b[0m \u001b[0mclassifier1\u001b[0m \u001b[0;34m=\u001b[0m \u001b[0mLogisticRegression\u001b[0m\u001b[0;34m(\u001b[0m\u001b[0mrandom_state\u001b[0m \u001b[0;34m=\u001b[0m \u001b[0;36m42\u001b[0m\u001b[0;34m)\u001b[0m\u001b[0;34m\u001b[0m\u001b[0;34m\u001b[0m\u001b[0m\n\u001b[0;32m----> 3\u001b[0;31m \u001b[0mclassifier1\u001b[0m\u001b[0;34m.\u001b[0m\u001b[0mfit\u001b[0m\u001b[0;34m(\u001b[0m\u001b[0mX_train\u001b[0m\u001b[0;34m,\u001b[0m\u001b[0my_train\u001b[0m\u001b[0;34m)\u001b[0m\u001b[0;34m\u001b[0m\u001b[0;34m\u001b[0m\u001b[0m\n\u001b[0m\u001b[1;32m      4\u001b[0m \u001b[0my_pred\u001b[0m \u001b[0;34m=\u001b[0m \u001b[0mclassifier1\u001b[0m\u001b[0;34m.\u001b[0m\u001b[0mpredict\u001b[0m\u001b[0;34m(\u001b[0m\u001b[0mX_test\u001b[0m\u001b[0;34m)\u001b[0m\u001b[0;34m\u001b[0m\u001b[0;34m\u001b[0m\u001b[0m\n",
            "\u001b[0;32m/usr/local/lib/python3.7/dist-packages/sklearn/linear_model/_logistic.py\u001b[0m in \u001b[0;36mfit\u001b[0;34m(self, X, y, sample_weight)\u001b[0m\n\u001b[1;32m   1514\u001b[0m             \u001b[0maccept_large_sparse\u001b[0m\u001b[0;34m=\u001b[0m\u001b[0msolver\u001b[0m \u001b[0;32mnot\u001b[0m \u001b[0;32min\u001b[0m \u001b[0;34m[\u001b[0m\u001b[0;34m\"liblinear\"\u001b[0m\u001b[0;34m,\u001b[0m \u001b[0;34m\"sag\"\u001b[0m\u001b[0;34m,\u001b[0m \u001b[0;34m\"saga\"\u001b[0m\u001b[0;34m]\u001b[0m\u001b[0;34m,\u001b[0m\u001b[0;34m\u001b[0m\u001b[0;34m\u001b[0m\u001b[0m\n\u001b[1;32m   1515\u001b[0m         )\n\u001b[0;32m-> 1516\u001b[0;31m         \u001b[0mcheck_classification_targets\u001b[0m\u001b[0;34m(\u001b[0m\u001b[0my\u001b[0m\u001b[0;34m)\u001b[0m\u001b[0;34m\u001b[0m\u001b[0;34m\u001b[0m\u001b[0m\n\u001b[0m\u001b[1;32m   1517\u001b[0m         \u001b[0mself\u001b[0m\u001b[0;34m.\u001b[0m\u001b[0mclasses_\u001b[0m \u001b[0;34m=\u001b[0m \u001b[0mnp\u001b[0m\u001b[0;34m.\u001b[0m\u001b[0munique\u001b[0m\u001b[0;34m(\u001b[0m\u001b[0my\u001b[0m\u001b[0;34m)\u001b[0m\u001b[0;34m\u001b[0m\u001b[0;34m\u001b[0m\u001b[0m\n\u001b[1;32m   1518\u001b[0m \u001b[0;34m\u001b[0m\u001b[0m\n",
            "\u001b[0;32m/usr/local/lib/python3.7/dist-packages/sklearn/utils/multiclass.py\u001b[0m in \u001b[0;36mcheck_classification_targets\u001b[0;34m(y)\u001b[0m\n\u001b[1;32m    195\u001b[0m         \u001b[0;34m\"multilabel-sequences\"\u001b[0m\u001b[0;34m,\u001b[0m\u001b[0;34m\u001b[0m\u001b[0;34m\u001b[0m\u001b[0m\n\u001b[1;32m    196\u001b[0m     ]:\n\u001b[0;32m--> 197\u001b[0;31m         \u001b[0;32mraise\u001b[0m \u001b[0mValueError\u001b[0m\u001b[0;34m(\u001b[0m\u001b[0;34m\"Unknown label type: %r\"\u001b[0m \u001b[0;34m%\u001b[0m \u001b[0my_type\u001b[0m\u001b[0;34m)\u001b[0m\u001b[0;34m\u001b[0m\u001b[0;34m\u001b[0m\u001b[0m\n\u001b[0m\u001b[1;32m    198\u001b[0m \u001b[0;34m\u001b[0m\u001b[0m\n\u001b[1;32m    199\u001b[0m \u001b[0;34m\u001b[0m\u001b[0m\n",
            "\u001b[0;31mValueError\u001b[0m: Unknown label type: 'continuous'"
          ]
        }
      ]
    },
    {
      "cell_type": "code",
      "source": [
        "insurance_data = pd.read_csv(\"../content/insurance.csv\")\n",
        "insurance_data.head()"
      ],
      "metadata": {
        "colab": {
          "base_uri": "https://localhost:8080/",
          "height": 206
        },
        "id": "2wEYoRXM91hC",
        "outputId": "34501d54-fa6b-4f80-c460-d042d948a7c6"
      },
      "execution_count": 2,
      "outputs": [
        {
          "output_type": "execute_result",
          "data": {
            "text/plain": [
              "   age     sex     bmi  children smoker     region      charges\n",
              "0   19  female  27.900         0    yes  southwest  16884.92400\n",
              "1   18    male  33.770         1     no  southeast   1725.55230\n",
              "2   28    male  33.000         3     no  southeast   4449.46200\n",
              "3   33    male  22.705         0     no  northwest  21984.47061\n",
              "4   32    male  28.880         0     no  northwest   3866.85520"
            ],
            "text/html": [
              "\n",
              "  <div id=\"df-1365709e-a007-4b44-ac67-43f1a109770a\">\n",
              "    <div class=\"colab-df-container\">\n",
              "      <div>\n",
              "<style scoped>\n",
              "    .dataframe tbody tr th:only-of-type {\n",
              "        vertical-align: middle;\n",
              "    }\n",
              "\n",
              "    .dataframe tbody tr th {\n",
              "        vertical-align: top;\n",
              "    }\n",
              "\n",
              "    .dataframe thead th {\n",
              "        text-align: right;\n",
              "    }\n",
              "</style>\n",
              "<table border=\"1\" class=\"dataframe\">\n",
              "  <thead>\n",
              "    <tr style=\"text-align: right;\">\n",
              "      <th></th>\n",
              "      <th>age</th>\n",
              "      <th>sex</th>\n",
              "      <th>bmi</th>\n",
              "      <th>children</th>\n",
              "      <th>smoker</th>\n",
              "      <th>region</th>\n",
              "      <th>charges</th>\n",
              "    </tr>\n",
              "  </thead>\n",
              "  <tbody>\n",
              "    <tr>\n",
              "      <th>0</th>\n",
              "      <td>19</td>\n",
              "      <td>female</td>\n",
              "      <td>27.900</td>\n",
              "      <td>0</td>\n",
              "      <td>yes</td>\n",
              "      <td>southwest</td>\n",
              "      <td>16884.92400</td>\n",
              "    </tr>\n",
              "    <tr>\n",
              "      <th>1</th>\n",
              "      <td>18</td>\n",
              "      <td>male</td>\n",
              "      <td>33.770</td>\n",
              "      <td>1</td>\n",
              "      <td>no</td>\n",
              "      <td>southeast</td>\n",
              "      <td>1725.55230</td>\n",
              "    </tr>\n",
              "    <tr>\n",
              "      <th>2</th>\n",
              "      <td>28</td>\n",
              "      <td>male</td>\n",
              "      <td>33.000</td>\n",
              "      <td>3</td>\n",
              "      <td>no</td>\n",
              "      <td>southeast</td>\n",
              "      <td>4449.46200</td>\n",
              "    </tr>\n",
              "    <tr>\n",
              "      <th>3</th>\n",
              "      <td>33</td>\n",
              "      <td>male</td>\n",
              "      <td>22.705</td>\n",
              "      <td>0</td>\n",
              "      <td>no</td>\n",
              "      <td>northwest</td>\n",
              "      <td>21984.47061</td>\n",
              "    </tr>\n",
              "    <tr>\n",
              "      <th>4</th>\n",
              "      <td>32</td>\n",
              "      <td>male</td>\n",
              "      <td>28.880</td>\n",
              "      <td>0</td>\n",
              "      <td>no</td>\n",
              "      <td>northwest</td>\n",
              "      <td>3866.85520</td>\n",
              "    </tr>\n",
              "  </tbody>\n",
              "</table>\n",
              "</div>\n",
              "      <button class=\"colab-df-convert\" onclick=\"convertToInteractive('df-1365709e-a007-4b44-ac67-43f1a109770a')\"\n",
              "              title=\"Convert this dataframe to an interactive table.\"\n",
              "              style=\"display:none;\">\n",
              "        \n",
              "  <svg xmlns=\"http://www.w3.org/2000/svg\" height=\"24px\"viewBox=\"0 0 24 24\"\n",
              "       width=\"24px\">\n",
              "    <path d=\"M0 0h24v24H0V0z\" fill=\"none\"/>\n",
              "    <path d=\"M18.56 5.44l.94 2.06.94-2.06 2.06-.94-2.06-.94-.94-2.06-.94 2.06-2.06.94zm-11 1L8.5 8.5l.94-2.06 2.06-.94-2.06-.94L8.5 2.5l-.94 2.06-2.06.94zm10 10l.94 2.06.94-2.06 2.06-.94-2.06-.94-.94-2.06-.94 2.06-2.06.94z\"/><path d=\"M17.41 7.96l-1.37-1.37c-.4-.4-.92-.59-1.43-.59-.52 0-1.04.2-1.43.59L10.3 9.45l-7.72 7.72c-.78.78-.78 2.05 0 2.83L4 21.41c.39.39.9.59 1.41.59.51 0 1.02-.2 1.41-.59l7.78-7.78 2.81-2.81c.8-.78.8-2.07 0-2.86zM5.41 20L4 18.59l7.72-7.72 1.47 1.35L5.41 20z\"/>\n",
              "  </svg>\n",
              "      </button>\n",
              "      \n",
              "  <style>\n",
              "    .colab-df-container {\n",
              "      display:flex;\n",
              "      flex-wrap:wrap;\n",
              "      gap: 12px;\n",
              "    }\n",
              "\n",
              "    .colab-df-convert {\n",
              "      background-color: #E8F0FE;\n",
              "      border: none;\n",
              "      border-radius: 50%;\n",
              "      cursor: pointer;\n",
              "      display: none;\n",
              "      fill: #1967D2;\n",
              "      height: 32px;\n",
              "      padding: 0 0 0 0;\n",
              "      width: 32px;\n",
              "    }\n",
              "\n",
              "    .colab-df-convert:hover {\n",
              "      background-color: #E2EBFA;\n",
              "      box-shadow: 0px 1px 2px rgba(60, 64, 67, 0.3), 0px 1px 3px 1px rgba(60, 64, 67, 0.15);\n",
              "      fill: #174EA6;\n",
              "    }\n",
              "\n",
              "    [theme=dark] .colab-df-convert {\n",
              "      background-color: #3B4455;\n",
              "      fill: #D2E3FC;\n",
              "    }\n",
              "\n",
              "    [theme=dark] .colab-df-convert:hover {\n",
              "      background-color: #434B5C;\n",
              "      box-shadow: 0px 1px 3px 1px rgba(0, 0, 0, 0.15);\n",
              "      filter: drop-shadow(0px 1px 2px rgba(0, 0, 0, 0.3));\n",
              "      fill: #FFFFFF;\n",
              "    }\n",
              "  </style>\n",
              "\n",
              "      <script>\n",
              "        const buttonEl =\n",
              "          document.querySelector('#df-1365709e-a007-4b44-ac67-43f1a109770a button.colab-df-convert');\n",
              "        buttonEl.style.display =\n",
              "          google.colab.kernel.accessAllowed ? 'block' : 'none';\n",
              "\n",
              "        async function convertToInteractive(key) {\n",
              "          const element = document.querySelector('#df-1365709e-a007-4b44-ac67-43f1a109770a');\n",
              "          const dataTable =\n",
              "            await google.colab.kernel.invokeFunction('convertToInteractive',\n",
              "                                                     [key], {});\n",
              "          if (!dataTable) return;\n",
              "\n",
              "          const docLinkHtml = 'Like what you see? Visit the ' +\n",
              "            '<a target=\"_blank\" href=https://colab.research.google.com/notebooks/data_table.ipynb>data table notebook</a>'\n",
              "            + ' to learn more about interactive tables.';\n",
              "          element.innerHTML = '';\n",
              "          dataTable['output_type'] = 'display_data';\n",
              "          await google.colab.output.renderOutput(dataTable, element);\n",
              "          const docLink = document.createElement('div');\n",
              "          docLink.innerHTML = docLinkHtml;\n",
              "          element.appendChild(docLink);\n",
              "        }\n",
              "      </script>\n",
              "    </div>\n",
              "  </div>\n",
              "  "
            ]
          },
          "metadata": {},
          "execution_count": 2
        }
      ]
    },
    {
      "cell_type": "code",
      "source": [
        "insurance_data.shape\n",
        "print('\\n')"
      ],
      "metadata": {
        "colab": {
          "base_uri": "https://localhost:8080/"
        },
        "id": "zJdXbsql-I_q",
        "outputId": "b58b25c4-e966-4ede-d88f-0547b2241b5d"
      },
      "execution_count": 3,
      "outputs": [
        {
          "output_type": "stream",
          "name": "stdout",
          "text": [
            "\n",
            "\n"
          ]
        }
      ]
    },
    {
      "cell_type": "code",
      "source": [
        "\n",
        "insurance_data.describe"
      ],
      "metadata": {
        "colab": {
          "base_uri": "https://localhost:8080/"
        },
        "id": "EFqwxHL2-Vao",
        "outputId": "c33fe7b3-8122-41d0-95b8-639306c2bfee"
      },
      "execution_count": 4,
      "outputs": [
        {
          "output_type": "execute_result",
          "data": {
            "text/plain": [
              "<bound method NDFrame.describe of       age     sex     bmi  children smoker     region      charges\n",
              "0      19  female  27.900         0    yes  southwest  16884.92400\n",
              "1      18    male  33.770         1     no  southeast   1725.55230\n",
              "2      28    male  33.000         3     no  southeast   4449.46200\n",
              "3      33    male  22.705         0     no  northwest  21984.47061\n",
              "4      32    male  28.880         0     no  northwest   3866.85520\n",
              "...   ...     ...     ...       ...    ...        ...          ...\n",
              "1333   50    male  30.970         3     no  northwest  10600.54830\n",
              "1334   18  female  31.920         0     no  northeast   2205.98080\n",
              "1335   18  female  36.850         0     no  southeast   1629.83350\n",
              "1336   21  female  25.800         0     no  southwest   2007.94500\n",
              "1337   61  female  29.070         0    yes  northwest  29141.36030\n",
              "\n",
              "[1338 rows x 7 columns]>"
            ]
          },
          "metadata": {},
          "execution_count": 4
        }
      ]
    },
    {
      "cell_type": "markdown",
      "source": [
        "# 3. EXPLORATORY DATA ANALYSIS\n",
        "\n",
        "> Analyze the data and draw meaningful conclusions from the data.\n",
        " \n",
        "\n",
        "*  Examine the distribution of Bmi (Body Mass Index)\n",
        "*  Examine the relationship between “smoker” and “charges”\n",
        "*  Examine the relationship between “smoker” and “region”.\n",
        "*  Examine the relationship between “bmi” and “sex”.\n",
        "*  Find the \"region\" with the most \"children\".\n",
        "*  Examine the relationship between “age” and “bmi”.\n",
        "*  Examine the relationship between “bmi” and “children”.\n",
        "*  Is there an outlier in the \"bmi\" variable? Please review.\n",
        "*  Examine the relationship between “bmi” and “charges”.\n",
        "*  Examine the relationship between “region”, “smoker” and “bmi” using bar plot.\n",
        "\n",
        "> Try to use data visualization techniques as much as possible while examining the data.\n",
        "\n",
        "> Please add the meanings you deduced from the analyzes as a comment line.\n",
        "\n",
        "\n",
        "\n",
        "\n"
      ],
      "metadata": {
        "id": "aZI9k2Mn_9J9"
      }
    },
    {
      "cell_type": "code",
      "source": [
        "plt.title(\"Histogram\")\n",
        "plt.xlabel(\"Body Mass Index (BMI) of Employees\")\n",
        "plt.ylabel(\"Frequency\")\n",
        "\n",
        "plt.hist(insurance_data.bmi)\n",
        "plt.show()"
      ],
      "metadata": {
        "id": "CrYxCCD9AG_D",
        "colab": {
          "base_uri": "https://localhost:8080/",
          "height": 295
        },
        "outputId": "ab050dae-1d00-4ba3-cbb7-2af4af95b8ae"
      },
      "execution_count": 5,
      "outputs": [
        {
          "output_type": "display_data",
          "data": {
            "text/plain": [
              "<Figure size 432x288 with 1 Axes>"
            ],
            "image/png": "[encoded data removed]"
          },
          "metadata": {
            "needs_background": "light"
          }
        }
      ]
    },
    {
      "cell_type": "code",
      "source": [
        "fig, ax = plt.subplots(nrows=2, ncols=2, figsize=(12,8)) #creating a grid of 2 rows, 2 columns and 6x6 figure size\n",
        "plt.subplot(2,2,1)\n",
        "plt.plot(insurance_data.smoker, insurance_data.charges, \"go\")\n",
        "plt.title(\"Smoker vs Charges\") # The top-left axes\n",
        "plt.xlabel(\"smoker\")\n",
        "plt.ylabel(\"charges\")\n",
        "\n",
        "plt.subplot(2,2,2)\n",
        "plt.plot(insurance_data.smoker, insurance_data.region, \"bo\") \n",
        "plt.title(\"Smoker vs Region\")\n",
        "plt.xlabel(\"smoker\")\n",
        "plt.ylabel(\"region\") # The top-right axes\n",
        "plt.subplot(2,2,3)\n",
        "plt.plot(insurance_data.bmi, insurance_data.sex, \"yo\") \n",
        "plt.title(\"BMI vs Sex\")\n",
        "plt.xlabel(\"BMI\")\n",
        "plt.ylabel(\"Sex\") #The bottom-left axes\n",
        "\n",
        "plt.subplot(2,2,4)\n",
        "plt.plot(insurance_data.age, insurance_data.bmi, \"ro\") # The bottom-right axes\n",
        "plt.title(\"Age vs BMI\")\n",
        "plt.xlabel(\"Age\")\n",
        "plt.ylabel(\"BMI\") # The top-left axes\n",
        "plt.show()"
      ],
      "metadata": {
        "colab": {
          "base_uri": "https://localhost:8080/",
          "height": 513
        },
        "id": "z8t-XOoawubO",
        "outputId": "fa383520-9716-4cc6-e8f1-d389fca2d85b"
      },
      "execution_count": 6,
      "outputs": [
        {
          "output_type": "display_data",
          "data": {
            "text/plain": [
              "<Figure size 864x576 with 4 Axes>"
            ],
            "image/png": "[encoded data removed]"
          },
          "metadata": {
            "needs_background": "light"
          }
        }
      ]
    },
    {
      "cell_type": "code",
      "source": [
        "\n",
        "# Using the NumPy arange function to generate values for index between 0-4.\n",
        "# Here,stop is 5, start is 0, and step is 1\n",
        "\n",
        "plt.bar( insurance_data.region,insurance_data.smoker, color=\"green\", label=\"Region\")\n",
        "#plt.bar(index+width, insurance_data.smoker, width, color=\"blue\", label=\"Smoker\")\n",
        "\n",
        "plt.title(\"Bar Graph\")\n",
        "plt.xlabel(\"Region\")\n",
        "plt.ylabel(\"Smoker\")\n",
        "plt.show()"
      ],
      "metadata": {
        "colab": {
          "base_uri": "https://localhost:8080/",
          "height": 295
        },
        "id": "4qGuJeRFwun2",
        "outputId": "ab3b18ad-014c-4f4d-aab8-a41c3778df75"
      },
      "execution_count": 7,
      "outputs": [
        {
          "output_type": "display_data",
          "data": {
            "text/plain": [
              "<Figure size 432x288 with 1 Axes>"
            ],
            "image/png": "[encoded data removed]"
          },
          "metadata": {
            "needs_background": "light"
          }
        }
      ]
    },
    {
      "cell_type": "code",
      "source": [
        "\n"
      ],
      "metadata": {
        "id": "xzq92k4swuz4"
      },
      "execution_count": 9,
      "outputs": []
    },
    {
      "cell_type": "code",
      "source": [
        "# Create a DataFrame with 3 columns:\n",
        "plotdata = pd.DataFrame({\n",
        "    \"Smoker\":insurance_data.smoker,\n",
        "    \"bmi\":insurance_data.bmi, \n",
        "    \"region\":insurance_data.region,\n",
        "})\n",
        "plotdata.head()"
      ],
      "metadata": {
        "colab": {
          "base_uri": "https://localhost:8080/",
          "height": 206
        },
        "id": "r1OGen-0wu--",
        "outputId": "dc30a372-0298-47c7-813d-7c4ba21e2638"
      },
      "execution_count": 9,
      "outputs": [
        {
          "output_type": "execute_result",
          "data": {
            "text/plain": [
              "  Smoker     bmi     region\n",
              "0    yes  27.900  southwest\n",
              "1     no  33.770  southeast\n",
              "2     no  33.000  southeast\n",
              "3     no  22.705  northwest\n",
              "4     no  28.880  northwest"
            ],
            "text/html": [
              "\n",
              "  <div id=\"df-efcb5ba2-26bb-49e5-9ce0-011a190baa27\">\n",
              "    <div class=\"colab-df-container\">\n",
              "      <div>\n",
              "<style scoped>\n",
              "    .dataframe tbody tr th:only-of-type {\n",
              "        vertical-align: middle;\n",
              "    }\n",
              "\n",
              "    .dataframe tbody tr th {\n",
              "        vertical-align: top;\n",
              "    }\n",
              "\n",
              "    .dataframe thead th {\n",
              "        text-align: right;\n",
              "    }\n",
              "</style>\n",
              "<table border=\"1\" class=\"dataframe\">\n",
              "  <thead>\n",
              "    <tr style=\"text-align: right;\">\n",
              "      <th></th>\n",
              "      <th>Smoker</th>\n",
              "      <th>bmi</th>\n",
              "      <th>region</th>\n",
              "    </tr>\n",
              "  </thead>\n",
              "  <tbody>\n",
              "    <tr>\n",
              "      <th>0</th>\n",
              "      <td>yes</td>\n",
              "      <td>27.900</td>\n",
              "      <td>southwest</td>\n",
              "    </tr>\n",
              "    <tr>\n",
              "      <th>1</th>\n",
              "      <td>no</td>\n",
              "      <td>33.770</td>\n",
              "      <td>southeast</td>\n",
              "    </tr>\n",
              "    <tr>\n",
              "      <th>2</th>\n",
              "      <td>no</td>\n",
              "      <td>33.000</td>\n",
              "      <td>southeast</td>\n",
              "    </tr>\n",
              "    <tr>\n",
              "      <th>3</th>\n",
              "      <td>no</td>\n",
              "      <td>22.705</td>\n",
              "      <td>northwest</td>\n",
              "    </tr>\n",
              "    <tr>\n",
              "      <th>4</th>\n",
              "      <td>no</td>\n",
              "      <td>28.880</td>\n",
              "      <td>northwest</td>\n",
              "    </tr>\n",
              "  </tbody>\n",
              "</table>\n",
              "</div>\n",
              "      <button class=\"colab-df-convert\" onclick=\"convertToInteractive('df-efcb5ba2-26bb-49e5-9ce0-011a190baa27')\"\n",
              "              title=\"Convert this dataframe to an interactive table.\"\n",
              "              style=\"display:none;\">\n",
              "        \n",
              "  <svg xmlns=\"http://www.w3.org/2000/svg\" height=\"24px\"viewBox=\"0 0 24 24\"\n",
              "       width=\"24px\">\n",
              "    <path d=\"M0 0h24v24H0V0z\" fill=\"none\"/>\n",
              "    <path d=\"M18.56 5.44l.94 2.06.94-2.06 2.06-.94-2.06-.94-.94-2.06-.94 2.06-2.06.94zm-11 1L8.5 8.5l.94-2.06 2.06-.94-2.06-.94L8.5 2.5l-.94 2.06-2.06.94zm10 10l.94 2.06.94-2.06 2.06-.94-2.06-.94-.94-2.06-.94 2.06-2.06.94z\"/><path d=\"M17.41 7.96l-1.37-1.37c-.4-.4-.92-.59-1.43-.59-.52 0-1.04.2-1.43.59L10.3 9.45l-7.72 7.72c-.78.78-.78 2.05 0 2.83L4 21.41c.39.39.9.59 1.41.59.51 0 1.02-.2 1.41-.59l7.78-7.78 2.81-2.81c.8-.78.8-2.07 0-2.86zM5.41 20L4 18.59l7.72-7.72 1.47 1.35L5.41 20z\"/>\n",
              "  </svg>\n",
              "      </button>\n",
              "      \n",
              "  <style>\n",
              "    .colab-df-container {\n",
              "      display:flex;\n",
              "      flex-wrap:wrap;\n",
              "      gap: 12px;\n",
              "    }\n",
              "\n",
              "    .colab-df-convert {\n",
              "      background-color: #E8F0FE;\n",
              "      border: none;\n",
              "      border-radius: 50%;\n",
              "      cursor: pointer;\n",
              "      display: none;\n",
              "      fill: #1967D2;\n",
              "      height: 32px;\n",
              "      padding: 0 0 0 0;\n",
              "      width: 32px;\n",
              "    }\n",
              "\n",
              "    .colab-df-convert:hover {\n",
              "      background-color: #E2EBFA;\n",
              "      box-shadow: 0px 1px 2px rgba(60, 64, 67, 0.3), 0px 1px 3px 1px rgba(60, 64, 67, 0.15);\n",
              "      fill: #174EA6;\n",
              "    }\n",
              "\n",
              "    [theme=dark] .colab-df-convert {\n",
              "      background-color: #3B4455;\n",
              "      fill: #D2E3FC;\n",
              "    }\n",
              "\n",
              "    [theme=dark] .colab-df-convert:hover {\n",
              "      background-color: #434B5C;\n",
              "      box-shadow: 0px 1px 3px 1px rgba(0, 0, 0, 0.15);\n",
              "      filter: drop-shadow(0px 1px 2px rgba(0, 0, 0, 0.3));\n",
              "      fill: #FFFFFF;\n",
              "    }\n",
              "  </style>\n",
              "\n",
              "      <script>\n",
              "        const buttonEl =\n",
              "          document.querySelector('#df-efcb5ba2-26bb-49e5-9ce0-011a190baa27 button.colab-df-convert');\n",
              "        buttonEl.style.display =\n",
              "          google.colab.kernel.accessAllowed ? 'block' : 'none';\n",
              "\n",
              "        async function convertToInteractive(key) {\n",
              "          const element = document.querySelector('#df-efcb5ba2-26bb-49e5-9ce0-011a190baa27');\n",
              "          const dataTable =\n",
              "            await google.colab.kernel.invokeFunction('convertToInteractive',\n",
              "                                                     [key], {});\n",
              "          if (!dataTable) return;\n",
              "\n",
              "          const docLinkHtml = 'Like what you see? Visit the ' +\n",
              "            '<a target=\"_blank\" href=https://colab.research.google.com/notebooks/data_table.ipynb>data table notebook</a>'\n",
              "            + ' to learn more about interactive tables.';\n",
              "          element.innerHTML = '';\n",
              "          dataTable['output_type'] = 'display_data';\n",
              "          await google.colab.output.renderOutput(dataTable, element);\n",
              "          const docLink = document.createElement('div');\n",
              "          docLink.innerHTML = docLinkHtml;\n",
              "          element.appendChild(docLink);\n",
              "        }\n",
              "      </script>\n",
              "    </div>\n",
              "  </div>\n",
              "  "
            ]
          },
          "metadata": {},
          "execution_count": 9
        }
      ]
    },
    {
      "cell_type": "code",
      "source": [
        "index = np.arange(1338)\n",
        "width = 0.2\n",
        "\n",
        "plt.bar(index,plotdata['Smoker'], width, color=\"green\", label=\"Smoker\")\n",
        "plt.bar(index,plotdata['bmi'], width, color=\"blue\", label=\"BMI\",bottom=plotdata['Smoker'])\n",
        "plt.title(\"Bar Graph\")\n",
        "plt.xlabel(\"BMI values\")\n",
        "plt.ylabel(\"SMOKER Y/N?\")\n",
        "plt.show()"
      ],
      "metadata": {
        "colab": {
          "base_uri": "https://localhost:8080/",
          "height": 295
        },
        "id": "TU7RTxh9USdT",
        "outputId": "d32d7e80-ff88-4379-c259-dc6e27634bea"
      },
      "execution_count": 10,
      "outputs": [
        {
          "output_type": "display_data",
          "data": {
            "text/plain": [
              "<Figure size 432x288 with 1 Axes>"
            ],
            "image/png": "[encoded data removed]"
          },
          "metadata": {
            "needs_background": "light"
          }
        }
      ]
    },
    {
      "cell_type": "code",
      "source": [
        "plotdata.plot(kind=\"bar\")\n",
        "plt.title(\"Mince Pie Consumption Study\")"
      ],
      "metadata": {
        "colab": {
          "base_uri": "https://localhost:8080/",
          "height": 314
        },
        "id": "XqfjD4bgRo73",
        "outputId": "3264001d-96a3-4685-d6c4-b7a3dffa1024"
      },
      "execution_count": 11,
      "outputs": [
        {
          "output_type": "execute_result",
          "data": {
            "text/plain": [
              "Text(0.5, 1.0, 'Mince Pie Consumption Study')"
            ]
          },
          "metadata": {},
          "execution_count": 11
        },
        {
          "output_type": "display_data",
          "data": {
            "text/plain": [
              "<Figure size 432x288 with 1 Axes>"
            ],
            "image/png": "[encoded data removed]"
          },
          "metadata": {
            "needs_background": "light"
          }
        }
      ]
    },
    {
      "cell_type": "code",
      "source": [
        "\n",
        "import numpy as np\n",
        "import matplotlib.pyplot as plt\n",
        "data = [plotdata['bmi'],\n",
        "plotdata['region'],\n",
        "plotdata['Smoker']]\n",
        "X = np.arange(1338)\n",
        "fig = plt.figure()\n",
        "# fig.add_axes() is a list [x0, y0, width, height]\n",
        "ax = fig.add_axes([0,0,1,1])\n",
        "ax.bar(X + 0.00, data[0], color = 'b', width = 0.25)\n",
        "ax.bar(X + 0.25, data[1], color = 'g', width = 0.25)\n",
        "ax.bar(X + 0.50, data[2], color = 'r', width = 0.25)\n"
      ],
      "metadata": {
        "colab": {
          "base_uri": "https://localhost:8080/",
          "height": 353
        },
        "id": "Y8QeoeKDZDaF",
        "outputId": "946e8bee-3f88-4e1a-96b1-0589181305e0"
      },
      "execution_count": 12,
      "outputs": [
        {
          "output_type": "execute_result",
          "data": {
            "text/plain": [
              "<BarContainer object of 1338 artists>"
            ]
          },
          "metadata": {},
          "execution_count": 12
        },
        {
          "output_type": "display_data",
          "data": {
            "text/plain": [
              "<Figure size 432x288 with 1 Axes>"
            ],
            "image/png": "[encoded data removed]"
          },
          "metadata": {
            "needs_background": "light"
          }
        }
      ]
    },
    {
      "cell_type": "code",
      "source": [
        "insurance_data.region"
      ],
      "metadata": {
        "colab": {
          "base_uri": "https://localhost:8080/"
        },
        "id": "zEnPQiJSRJV3",
        "outputId": "6ad27710-2986-49a7-8c2e-f07b2dd1bd32"
      },
      "execution_count": null,
      "outputs": [
        {
          "output_type": "execute_result",
          "data": {
            "text/plain": [
              "0       southwest\n",
              "1       southeast\n",
              "2       southeast\n",
              "3       northwest\n",
              "4       northwest\n",
              "          ...    \n",
              "1333    northwest\n",
              "1334    northeast\n",
              "1335    southeast\n",
              "1336    southwest\n",
              "1337    northwest\n",
              "Name: region, Length: 1338, dtype: object"
            ]
          },
          "metadata": {},
          "execution_count": 15
        }
      ]
    },
    {
      "cell_type": "markdown",
      "source": [
        "# 4. DATA PRE **PROCESSING**"
      ],
      "metadata": {
        "id": "02ypJIsJAS0K"
      }
    },
    {
      "cell_type": "markdown",
      "source": [
        "In this section, prepare the data you have, for training the model.\n",
        "* Use Label Encoding and One-Hot Encoding techniques to deal with categorical\n",
        "variables.\n",
        "* Split your dataset into X_train,X_test, y_train, y_test.\n",
        "* Scale the dataset by normalizing it(Min-Max Scaling or Standard Scaling).\n"
      ],
      "metadata": {
        "id": "odABmqetEGyJ"
      }
    },
    {
      "cell_type": "code",
      "source": [
        "from sklearn.preprocessing import LabelEncoder\n",
        "var_mod = ['sex','smoker','region']\n",
        "le = LabelEncoder()\n",
        "for i in var_mod:\n",
        "  insurance_data[i] = le.fit_transform(insurance_data[i])"
      ],
      "metadata": {
        "id": "fPmG_6QwAZYi"
      },
      "execution_count": 13,
      "outputs": []
    },
    {
      "cell_type": "code",
      "source": [
        "print(insurance_data)"
      ],
      "metadata": {
        "colab": {
          "base_uri": "https://localhost:8080/"
        },
        "id": "kjz6doGzZ4LI",
        "outputId": "cf47a83d-c5da-4b17-cb2e-97a981629436"
      },
      "execution_count": 14,
      "outputs": [
        {
          "output_type": "stream",
          "name": "stdout",
          "text": [
            "      age  sex     bmi  children  smoker  region      charges\n",
            "0      19    0  27.900         0       1       3  16884.92400\n",
            "1      18    1  33.770         1       0       2   1725.55230\n",
            "2      28    1  33.000         3       0       2   4449.46200\n",
            "3      33    1  22.705         0       0       1  21984.47061\n",
            "4      32    1  28.880         0       0       1   3866.85520\n",
            "...   ...  ...     ...       ...     ...     ...          ...\n",
            "1333   50    1  30.970         3       0       1  10600.54830\n",
            "1334   18    0  31.920         0       0       0   2205.98080\n",
            "1335   18    0  36.850         0       0       2   1629.83350\n",
            "1336   21    0  25.800         0       0       3   2007.94500\n",
            "1337   61    0  29.070         0       1       1  29141.36030\n",
            "\n",
            "[1338 rows x 7 columns]\n"
          ]
        }
      ]
    },
    {
      "cell_type": "code",
      "source": [
        "insurance_data.describe()"
      ],
      "metadata": {
        "colab": {
          "base_uri": "https://localhost:8080/",
          "height": 300
        },
        "id": "ZUZGftCRekzk",
        "outputId": "e369c99c-a7de-4a2b-f19f-268cd247d5e4"
      },
      "execution_count": 21,
      "outputs": [
        {
          "output_type": "execute_result",
          "data": {
            "text/plain": [
              "               age          sex          bmi     children       smoker  \\\n",
              "count  1338.000000  1338.000000  1338.000000  1338.000000  1338.000000   \n",
              "mean     39.207025     0.505232    30.663397     1.094918     0.204783   \n",
              "std      14.049960     0.500160     6.098187     1.205493     0.403694   \n",
              "min      18.000000     0.000000    15.960000     0.000000     0.000000   \n",
              "25%      27.000000     0.000000    26.296250     0.000000     0.000000   \n",
              "50%      39.000000     1.000000    30.400000     1.000000     0.000000   \n",
              "75%      51.000000     1.000000    34.693750     2.000000     0.000000   \n",
              "max      64.000000     1.000000    53.130000     5.000000     1.000000   \n",
              "\n",
              "            region       charges  \n",
              "count  1338.000000   1338.000000  \n",
              "mean      1.515695  13270.422265  \n",
              "std       1.104885  12110.011237  \n",
              "min       0.000000   1121.873900  \n",
              "25%       1.000000   4740.287150  \n",
              "50%       2.000000   9382.033000  \n",
              "75%       2.000000  16639.912515  \n",
              "max       3.000000  63770.428010  "
            ],
            "text/html": [
              "\n",
              "  <div id=\"df-802fe76d-2e44-4dae-ac47-8dc9bbf04447\">\n",
              "    <div class=\"colab-df-container\">\n",
              "      <div>\n",
              "<style scoped>\n",
              "    .dataframe tbody tr th:only-of-type {\n",
              "        vertical-align: middle;\n",
              "    }\n",
              "\n",
              "    .dataframe tbody tr th {\n",
              "        vertical-align: top;\n",
              "    }\n",
              "\n",
              "    .dataframe thead th {\n",
              "        text-align: right;\n",
              "    }\n",
              "</style>\n",
              "<table border=\"1\" class=\"dataframe\">\n",
              "  <thead>\n",
              "    <tr style=\"text-align: right;\">\n",
              "      <th></th>\n",
              "      <th>age</th>\n",
              "      <th>sex</th>\n",
              "      <th>bmi</th>\n",
              "      <th>children</th>\n",
              "      <th>smoker</th>\n",
              "      <th>region</th>\n",
              "      <th>charges</th>\n",
              "    </tr>\n",
              "  </thead>\n",
              "  <tbody>\n",
              "    <tr>\n",
              "      <th>count</th>\n",
              "      <td>1338.000000</td>\n",
              "      <td>1338.000000</td>\n",
              "      <td>1338.000000</td>\n",
              "      <td>1338.000000</td>\n",
              "      <td>1338.000000</td>\n",
              "      <td>1338.000000</td>\n",
              "      <td>1338.000000</td>\n",
              "    </tr>\n",
              "    <tr>\n",
              "      <th>mean</th>\n",
              "      <td>39.207025</td>\n",
              "      <td>0.505232</td>\n",
              "      <td>30.663397</td>\n",
              "      <td>1.094918</td>\n",
              "      <td>0.204783</td>\n",
              "      <td>1.515695</td>\n",
              "      <td>13270.422265</td>\n",
              "    </tr>\n",
              "    <tr>\n",
              "      <th>std</th>\n",
              "      <td>14.049960</td>\n",
              "      <td>0.500160</td>\n",
              "      <td>6.098187</td>\n",
              "      <td>1.205493</td>\n",
              "      <td>0.403694</td>\n",
              "      <td>1.104885</td>\n",
              "      <td>12110.011237</td>\n",
              "    </tr>\n",
              "    <tr>\n",
              "      <th>min</th>\n",
              "      <td>18.000000</td>\n",
              "      <td>0.000000</td>\n",
              "      <td>15.960000</td>\n",
              "      <td>0.000000</td>\n",
              "      <td>0.000000</td>\n",
              "      <td>0.000000</td>\n",
              "      <td>1121.873900</td>\n",
              "    </tr>\n",
              "    <tr>\n",
              "      <th>25%</th>\n",
              "      <td>27.000000</td>\n",
              "      <td>0.000000</td>\n",
              "      <td>26.296250</td>\n",
              "      <td>0.000000</td>\n",
              "      <td>0.000000</td>\n",
              "      <td>1.000000</td>\n",
              "      <td>4740.287150</td>\n",
              "    </tr>\n",
              "    <tr>\n",
              "      <th>50%</th>\n",
              "      <td>39.000000</td>\n",
              "      <td>1.000000</td>\n",
              "      <td>30.400000</td>\n",
              "      <td>1.000000</td>\n",
              "      <td>0.000000</td>\n",
              "      <td>2.000000</td>\n",
              "      <td>9382.033000</td>\n",
              "    </tr>\n",
              "    <tr>\n",
              "      <th>75%</th>\n",
              "      <td>51.000000</td>\n",
              "      <td>1.000000</td>\n",
              "      <td>34.693750</td>\n",
              "      <td>2.000000</td>\n",
              "      <td>0.000000</td>\n",
              "      <td>2.000000</td>\n",
              "      <td>16639.912515</td>\n",
              "    </tr>\n",
              "    <tr>\n",
              "      <th>max</th>\n",
              "      <td>64.000000</td>\n",
              "      <td>1.000000</td>\n",
              "      <td>53.130000</td>\n",
              "      <td>5.000000</td>\n",
              "      <td>1.000000</td>\n",
              "      <td>3.000000</td>\n",
              "      <td>63770.428010</td>\n",
              "    </tr>\n",
              "  </tbody>\n",
              "</table>\n",
              "</div>\n",
              "      <button class=\"colab-df-convert\" onclick=\"convertToInteractive('df-802fe76d-2e44-4dae-ac47-8dc9bbf04447')\"\n",
              "              title=\"Convert this dataframe to an interactive table.\"\n",
              "              style=\"display:none;\">\n",
              "        \n",
              "  <svg xmlns=\"http://www.w3.org/2000/svg\" height=\"24px\"viewBox=\"0 0 24 24\"\n",
              "       width=\"24px\">\n",
              "    <path d=\"M0 0h24v24H0V0z\" fill=\"none\"/>\n",
              "    <path d=\"M18.56 5.44l.94 2.06.94-2.06 2.06-.94-2.06-.94-.94-2.06-.94 2.06-2.06.94zm-11 1L8.5 8.5l.94-2.06 2.06-.94-2.06-.94L8.5 2.5l-.94 2.06-2.06.94zm10 10l.94 2.06.94-2.06 2.06-.94-2.06-.94-.94-2.06-.94 2.06-2.06.94z\"/><path d=\"M17.41 7.96l-1.37-1.37c-.4-.4-.92-.59-1.43-.59-.52 0-1.04.2-1.43.59L10.3 9.45l-7.72 7.72c-.78.78-.78 2.05 0 2.83L4 21.41c.39.39.9.59 1.41.59.51 0 1.02-.2 1.41-.59l7.78-7.78 2.81-2.81c.8-.78.8-2.07 0-2.86zM5.41 20L4 18.59l7.72-7.72 1.47 1.35L5.41 20z\"/>\n",
              "  </svg>\n",
              "      </button>\n",
              "      \n",
              "  <style>\n",
              "    .colab-df-container {\n",
              "      display:flex;\n",
              "      flex-wrap:wrap;\n",
              "      gap: 12px;\n",
              "    }\n",
              "\n",
              "    .colab-df-convert {\n",
              "      background-color: #E8F0FE;\n",
              "      border: none;\n",
              "      border-radius: 50%;\n",
              "      cursor: pointer;\n",
              "      display: none;\n",
              "      fill: #1967D2;\n",
              "      height: 32px;\n",
              "      padding: 0 0 0 0;\n",
              "      width: 32px;\n",
              "    }\n",
              "\n",
              "    .colab-df-convert:hover {\n",
              "      background-color: #E2EBFA;\n",
              "      box-shadow: 0px 1px 2px rgba(60, 64, 67, 0.3), 0px 1px 3px 1px rgba(60, 64, 67, 0.15);\n",
              "      fill: #174EA6;\n",
              "    }\n",
              "\n",
              "    [theme=dark] .colab-df-convert {\n",
              "      background-color: #3B4455;\n",
              "      fill: #D2E3FC;\n",
              "    }\n",
              "\n",
              "    [theme=dark] .colab-df-convert:hover {\n",
              "      background-color: #434B5C;\n",
              "      box-shadow: 0px 1px 3px 1px rgba(0, 0, 0, 0.15);\n",
              "      filter: drop-shadow(0px 1px 2px rgba(0, 0, 0, 0.3));\n",
              "      fill: #FFFFFF;\n",
              "    }\n",
              "  </style>\n",
              "\n",
              "      <script>\n",
              "        const buttonEl =\n",
              "          document.querySelector('#df-802fe76d-2e44-4dae-ac47-8dc9bbf04447 button.colab-df-convert');\n",
              "        buttonEl.style.display =\n",
              "          google.colab.kernel.accessAllowed ? 'block' : 'none';\n",
              "\n",
              "        async function convertToInteractive(key) {\n",
              "          const element = document.querySelector('#df-802fe76d-2e44-4dae-ac47-8dc9bbf04447');\n",
              "          const dataTable =\n",
              "            await google.colab.kernel.invokeFunction('convertToInteractive',\n",
              "                                                     [key], {});\n",
              "          if (!dataTable) return;\n",
              "\n",
              "          const docLinkHtml = 'Like what you see? Visit the ' +\n",
              "            '<a target=\"_blank\" href=https://colab.research.google.com/notebooks/data_table.ipynb>data table notebook</a>'\n",
              "            + ' to learn more about interactive tables.';\n",
              "          element.innerHTML = '';\n",
              "          dataTable['output_type'] = 'display_data';\n",
              "          await google.colab.output.renderOutput(dataTable, element);\n",
              "          const docLink = document.createElement('div');\n",
              "          docLink.innerHTML = docLinkHtml;\n",
              "          element.appendChild(docLink);\n",
              "        }\n",
              "      </script>\n",
              "    </div>\n",
              "  </div>\n",
              "  "
            ]
          },
          "metadata": {},
          "execution_count": 21
        }
      ]
    },
    {
      "cell_type": "code",
      "source": [
        "insurance_data.dtypes"
      ],
      "metadata": {
        "colab": {
          "base_uri": "https://localhost:8080/"
        },
        "id": "mTiEMx69e5Pu",
        "outputId": "4659259b-0f5d-4fe4-ab08-bae6bd8b829e"
      },
      "execution_count": 22,
      "outputs": [
        {
          "output_type": "execute_result",
          "data": {
            "text/plain": [
              "age           int64\n",
              "sex           int64\n",
              "bmi         float64\n",
              "children      int64\n",
              "smoker        int64\n",
              "region        int64\n",
              "charges     float64\n",
              "dtype: object"
            ]
          },
          "metadata": {},
          "execution_count": 22
        }
      ]
    },
    {
      "cell_type": "code",
      "source": [
        "insurance_data.isnull().sum()"
      ],
      "metadata": {
        "colab": {
          "base_uri": "https://localhost:8080/"
        },
        "id": "jGycFa4LeP4d",
        "outputId": "afba64c7-673f-4289-f30a-5e3a50de3731"
      },
      "execution_count": 19,
      "outputs": [
        {
          "output_type": "execute_result",
          "data": {
            "text/plain": [
              "age         0\n",
              "sex         0\n",
              "bmi         0\n",
              "children    0\n",
              "smoker      0\n",
              "region      0\n",
              "charges     0\n",
              "dtype: int64"
            ]
          },
          "metadata": {},
          "execution_count": 19
        }
      ]
    },
    {
      "cell_type": "code",
      "source": [
        "insurance_data.duplicated().sum()"
      ],
      "metadata": {
        "colab": {
          "base_uri": "https://localhost:8080/"
        },
        "id": "o_eb4KWlfCs9",
        "outputId": "4f1ddc5c-4100-45ec-99e8-5afcd6ea8b64"
      },
      "execution_count": 23,
      "outputs": [
        {
          "output_type": "execute_result",
          "data": {
            "text/plain": [
              "1"
            ]
          },
          "metadata": {},
          "execution_count": 23
        }
      ]
    },
    {
      "cell_type": "code",
      "source": [
        "insurance_data.transpose()"
      ],
      "metadata": {
        "colab": {
          "base_uri": "https://localhost:8080/",
          "height": 362
        },
        "id": "yS3LkgJjfPEA",
        "outputId": "a5e4dcf7-d59d-4dca-e504-e6f8dedfdfbe"
      },
      "execution_count": 24,
      "outputs": [
        {
          "output_type": "execute_result",
          "data": {
            "text/plain": [
              "               0          1         2            3          4          5     \\\n",
              "age          19.000    18.0000    28.000     33.00000    32.0000    31.0000   \n",
              "sex           0.000     1.0000     1.000      1.00000     1.0000     0.0000   \n",
              "bmi          27.900    33.7700    33.000     22.70500    28.8800    25.7400   \n",
              "children      0.000     1.0000     3.000      0.00000     0.0000     0.0000   \n",
              "smoker        1.000     0.0000     0.000      0.00000     0.0000     0.0000   \n",
              "region        3.000     2.0000     2.000      1.00000     1.0000     2.0000   \n",
              "charges   16884.924  1725.5523  4449.462  21984.47061  3866.8552  3756.6216   \n",
              "\n",
              "               6          7          8            9     ...         1328  \\\n",
              "age         46.0000    37.0000    37.0000     60.00000  ...     23.00000   \n",
              "sex          0.0000     0.0000     1.0000      0.00000  ...      0.00000   \n",
              "bmi         33.4400    27.7400    29.8300     25.84000  ...     24.22500   \n",
              "children     1.0000     3.0000     2.0000      0.00000  ...      2.00000   \n",
              "smoker       0.0000     0.0000     0.0000      0.00000  ...      0.00000   \n",
              "region       2.0000     1.0000     0.0000      1.00000  ...      0.00000   \n",
              "charges   8240.5896  7281.5056  6406.4107  28923.13692  ...  22395.74424   \n",
              "\n",
              "               1329        1330         1331       1332        1333  \\\n",
              "age          52.000     57.0000     23.00000     52.000     50.0000   \n",
              "sex           1.000      0.0000      0.00000      0.000      1.0000   \n",
              "bmi          38.600     25.7400     33.40000     44.700     30.9700   \n",
              "children      2.000      2.0000      0.00000      3.000      3.0000   \n",
              "smoker        0.000      0.0000      0.00000      0.000      0.0000   \n",
              "region        3.000      2.0000      3.00000      3.000      1.0000   \n",
              "charges   10325.206  12629.1656  10795.93733  11411.685  10600.5483   \n",
              "\n",
              "               1334       1335      1336        1337  \n",
              "age         18.0000    18.0000    21.000     61.0000  \n",
              "sex          0.0000     0.0000     0.000      0.0000  \n",
              "bmi         31.9200    36.8500    25.800     29.0700  \n",
              "children     0.0000     0.0000     0.000      0.0000  \n",
              "smoker       0.0000     0.0000     0.000      1.0000  \n",
              "region       0.0000     2.0000     3.000      1.0000  \n",
              "charges   2205.9808  1629.8335  2007.945  29141.3603  \n",
              "\n",
              "[7 rows x 1338 columns]"
            ],
            "text/html": [
              "\n",
              "  <div id=\"df-1416cbd9-1e7e-43f7-a954-56609d13c1b9\">\n",
              "    <div class=\"colab-df-container\">\n",
              "      <div>\n",
              "<style scoped>\n",
              "    .dataframe tbody tr th:only-of-type {\n",
              "        vertical-align: middle;\n",
              "    }\n",
              "\n",
              "    .dataframe tbody tr th {\n",
              "        vertical-align: top;\n",
              "    }\n",
              "\n",
              "    .dataframe thead th {\n",
              "        text-align: right;\n",
              "    }\n",
              "</style>\n",
              "<table border=\"1\" class=\"dataframe\">\n",
              "  <thead>\n",
              "    <tr style=\"text-align: right;\">\n",
              "      <th></th>\n",
              "      <th>0</th>\n",
              "      <th>1</th>\n",
              "      <th>2</th>\n",
              "      <th>3</th>\n",
              "      <th>4</th>\n",
              "      <th>5</th>\n",
              "      <th>6</th>\n",
              "      <th>7</th>\n",
              "      <th>8</th>\n",
              "      <th>9</th>\n",
              "      <th>...</th>\n",
              "      <th>1328</th>\n",
              "      <th>1329</th>\n",
              "      <th>1330</th>\n",
              "      <th>1331</th>\n",
              "      <th>1332</th>\n",
              "      <th>1333</th>\n",
              "      <th>1334</th>\n",
              "      <th>1335</th>\n",
              "      <th>1336</th>\n",
              "      <th>1337</th>\n",
              "    </tr>\n",
              "  </thead>\n",
              "  <tbody>\n",
              "    <tr>\n",
              "      <th>age</th>\n",
              "      <td>19.000</td>\n",
              "      <td>18.0000</td>\n",
              "      <td>28.000</td>\n",
              "      <td>33.00000</td>\n",
              "      <td>32.0000</td>\n",
              "      <td>31.0000</td>\n",
              "      <td>46.0000</td>\n",
              "      <td>37.0000</td>\n",
              "      <td>37.0000</td>\n",
              "      <td>60.00000</td>\n",
              "      <td>...</td>\n",
              "      <td>23.00000</td>\n",
              "      <td>52.000</td>\n",
              "      <td>57.0000</td>\n",
              "      <td>23.00000</td>\n",
              "      <td>52.000</td>\n",
              "      <td>50.0000</td>\n",
              "      <td>18.0000</td>\n",
              "      <td>18.0000</td>\n",
              "      <td>21.000</td>\n",
              "      <td>61.0000</td>\n",
              "    </tr>\n",
              "    <tr>\n",
              "      <th>sex</th>\n",
              "      <td>0.000</td>\n",
              "      <td>1.0000</td>\n",
              "      <td>1.000</td>\n",
              "      <td>1.00000</td>\n",
              "      <td>1.0000</td>\n",
              "      <td>0.0000</td>\n",
              "      <td>0.0000</td>\n",
              "      <td>0.0000</td>\n",
              "      <td>1.0000</td>\n",
              "      <td>0.00000</td>\n",
              "      <td>...</td>\n",
              "      <td>0.00000</td>\n",
              "      <td>1.000</td>\n",
              "      <td>0.0000</td>\n",
              "      <td>0.00000</td>\n",
              "      <td>0.000</td>\n",
              "      <td>1.0000</td>\n",
              "      <td>0.0000</td>\n",
              "      <td>0.0000</td>\n",
              "      <td>0.000</td>\n",
              "      <td>0.0000</td>\n",
              "    </tr>\n",
              "    <tr>\n",
              "      <th>bmi</th>\n",
              "      <td>27.900</td>\n",
              "      <td>33.7700</td>\n",
              "      <td>33.000</td>\n",
              "      <td>22.70500</td>\n",
              "      <td>28.8800</td>\n",
              "      <td>25.7400</td>\n",
              "      <td>33.4400</td>\n",
              "      <td>27.7400</td>\n",
              "      <td>29.8300</td>\n",
              "      <td>25.84000</td>\n",
              "      <td>...</td>\n",
              "      <td>24.22500</td>\n",
              "      <td>38.600</td>\n",
              "      <td>25.7400</td>\n",
              "      <td>33.40000</td>\n",
              "      <td>44.700</td>\n",
              "      <td>30.9700</td>\n",
              "      <td>31.9200</td>\n",
              "      <td>36.8500</td>\n",
              "      <td>25.800</td>\n",
              "      <td>29.0700</td>\n",
              "    </tr>\n",
              "    <tr>\n",
              "      <th>children</th>\n",
              "      <td>0.000</td>\n",
              "      <td>1.0000</td>\n",
              "      <td>3.000</td>\n",
              "      <td>0.00000</td>\n",
              "      <td>0.0000</td>\n",
              "      <td>0.0000</td>\n",
              "      <td>1.0000</td>\n",
              "      <td>3.0000</td>\n",
              "      <td>2.0000</td>\n",
              "      <td>0.00000</td>\n",
              "      <td>...</td>\n",
              "      <td>2.00000</td>\n",
              "      <td>2.000</td>\n",
              "      <td>2.0000</td>\n",
              "      <td>0.00000</td>\n",
              "      <td>3.000</td>\n",
              "      <td>3.0000</td>\n",
              "      <td>0.0000</td>\n",
              "      <td>0.0000</td>\n",
              "      <td>0.000</td>\n",
              "      <td>0.0000</td>\n",
              "    </tr>\n",
              "    <tr>\n",
              "      <th>smoker</th>\n",
              "      <td>1.000</td>\n",
              "      <td>0.0000</td>\n",
              "      <td>0.000</td>\n",
              "      <td>0.00000</td>\n",
              "      <td>0.0000</td>\n",
              "      <td>0.0000</td>\n",
              "      <td>0.0000</td>\n",
              "      <td>0.0000</td>\n",
              "      <td>0.0000</td>\n",
              "      <td>0.00000</td>\n",
              "      <td>...</td>\n",
              "      <td>0.00000</td>\n",
              "      <td>0.000</td>\n",
              "      <td>0.0000</td>\n",
              "      <td>0.00000</td>\n",
              "      <td>0.000</td>\n",
              "      <td>0.0000</td>\n",
              "      <td>0.0000</td>\n",
              "      <td>0.0000</td>\n",
              "      <td>0.000</td>\n",
              "      <td>1.0000</td>\n",
              "    </tr>\n",
              "    <tr>\n",
              "      <th>region</th>\n",
              "      <td>3.000</td>\n",
              "      <td>2.0000</td>\n",
              "      <td>2.000</td>\n",
              "      <td>1.00000</td>\n",
              "      <td>1.0000</td>\n",
              "      <td>2.0000</td>\n",
              "      <td>2.0000</td>\n",
              "      <td>1.0000</td>\n",
              "      <td>0.0000</td>\n",
              "      <td>1.00000</td>\n",
              "      <td>...</td>\n",
              "      <td>0.00000</td>\n",
              "      <td>3.000</td>\n",
              "      <td>2.0000</td>\n",
              "      <td>3.00000</td>\n",
              "      <td>3.000</td>\n",
              "      <td>1.0000</td>\n",
              "      <td>0.0000</td>\n",
              "      <td>2.0000</td>\n",
              "      <td>3.000</td>\n",
              "      <td>1.0000</td>\n",
              "    </tr>\n",
              "    <tr>\n",
              "      <th>charges</th>\n",
              "      <td>16884.924</td>\n",
              "      <td>1725.5523</td>\n",
              "      <td>4449.462</td>\n",
              "      <td>21984.47061</td>\n",
              "      <td>3866.8552</td>\n",
              "      <td>3756.6216</td>\n",
              "      <td>8240.5896</td>\n",
              "      <td>7281.5056</td>\n",
              "      <td>6406.4107</td>\n",
              "      <td>28923.13692</td>\n",
              "      <td>...</td>\n",
              "      <td>22395.74424</td>\n",
              "      <td>10325.206</td>\n",
              "      <td>12629.1656</td>\n",
              "      <td>10795.93733</td>\n",
              "      <td>11411.685</td>\n",
              "      <td>10600.5483</td>\n",
              "      <td>2205.9808</td>\n",
              "      <td>1629.8335</td>\n",
              "      <td>2007.945</td>\n",
              "      <td>29141.3603</td>\n",
              "    </tr>\n",
              "  </tbody>\n",
              "</table>\n",
              "<p>7 rows × 1338 columns</p>\n",
              "</div>\n",
              "      <button class=\"colab-df-convert\" onclick=\"convertToInteractive('df-1416cbd9-1e7e-43f7-a954-56609d13c1b9')\"\n",
              "              title=\"Convert this dataframe to an interactive table.\"\n",
              "              style=\"display:none;\">\n",
              "        \n",
              "  <svg xmlns=\"http://www.w3.org/2000/svg\" height=\"24px\"viewBox=\"0 0 24 24\"\n",
              "       width=\"24px\">\n",
              "    <path d=\"M0 0h24v24H0V0z\" fill=\"none\"/>\n",
              "    <path d=\"M18.56 5.44l.94 2.06.94-2.06 2.06-.94-2.06-.94-.94-2.06-.94 2.06-2.06.94zm-11 1L8.5 8.5l.94-2.06 2.06-.94-2.06-.94L8.5 2.5l-.94 2.06-2.06.94zm10 10l.94 2.06.94-2.06 2.06-.94-2.06-.94-.94-2.06-.94 2.06-2.06.94z\"/><path d=\"M17.41 7.96l-1.37-1.37c-.4-.4-.92-.59-1.43-.59-.52 0-1.04.2-1.43.59L10.3 9.45l-7.72 7.72c-.78.78-.78 2.05 0 2.83L4 21.41c.39.39.9.59 1.41.59.51 0 1.02-.2 1.41-.59l7.78-7.78 2.81-2.81c.8-.78.8-2.07 0-2.86zM5.41 20L4 18.59l7.72-7.72 1.47 1.35L5.41 20z\"/>\n",
              "  </svg>\n",
              "      </button>\n",
              "      \n",
              "  <style>\n",
              "    .colab-df-container {\n",
              "      display:flex;\n",
              "      flex-wrap:wrap;\n",
              "      gap: 12px;\n",
              "    }\n",
              "\n",
              "    .colab-df-convert {\n",
              "      background-color: #E8F0FE;\n",
              "      border: none;\n",
              "      border-radius: 50%;\n",
              "      cursor: pointer;\n",
              "      display: none;\n",
              "      fill: #1967D2;\n",
              "      height: 32px;\n",
              "      padding: 0 0 0 0;\n",
              "      width: 32px;\n",
              "    }\n",
              "\n",
              "    .colab-df-convert:hover {\n",
              "      background-color: #E2EBFA;\n",
              "      box-shadow: 0px 1px 2px rgba(60, 64, 67, 0.3), 0px 1px 3px 1px rgba(60, 64, 67, 0.15);\n",
              "      fill: #174EA6;\n",
              "    }\n",
              "\n",
              "    [theme=dark] .colab-df-convert {\n",
              "      background-color: #3B4455;\n",
              "      fill: #D2E3FC;\n",
              "    }\n",
              "\n",
              "    [theme=dark] .colab-df-convert:hover {\n",
              "      background-color: #434B5C;\n",
              "      box-shadow: 0px 1px 3px 1px rgba(0, 0, 0, 0.15);\n",
              "      filter: drop-shadow(0px 1px 2px rgba(0, 0, 0, 0.3));\n",
              "      fill: #FFFFFF;\n",
              "    }\n",
              "  </style>\n",
              "\n",
              "      <script>\n",
              "        const buttonEl =\n",
              "          document.querySelector('#df-1416cbd9-1e7e-43f7-a954-56609d13c1b9 button.colab-df-convert');\n",
              "        buttonEl.style.display =\n",
              "          google.colab.kernel.accessAllowed ? 'block' : 'none';\n",
              "\n",
              "        async function convertToInteractive(key) {\n",
              "          const element = document.querySelector('#df-1416cbd9-1e7e-43f7-a954-56609d13c1b9');\n",
              "          const dataTable =\n",
              "            await google.colab.kernel.invokeFunction('convertToInteractive',\n",
              "                                                     [key], {});\n",
              "          if (!dataTable) return;\n",
              "\n",
              "          const docLinkHtml = 'Like what you see? Visit the ' +\n",
              "            '<a target=\"_blank\" href=https://colab.research.google.com/notebooks/data_table.ipynb>data table notebook</a>'\n",
              "            + ' to learn more about interactive tables.';\n",
              "          element.innerHTML = '';\n",
              "          dataTable['output_type'] = 'display_data';\n",
              "          await google.colab.output.renderOutput(dataTable, element);\n",
              "          const docLink = document.createElement('div');\n",
              "          docLink.innerHTML = docLinkHtml;\n",
              "          element.appendChild(docLink);\n",
              "        }\n",
              "      </script>\n",
              "    </div>\n",
              "  </div>\n",
              "  "
            ]
          },
          "metadata": {},
          "execution_count": 24
        }
      ]
    },
    {
      "cell_type": "code",
      "source": [
        "insurance_data.hist(\"charges\")"
      ],
      "metadata": {
        "colab": {
          "base_uri": "https://localhost:8080/",
          "height": 316
        },
        "id": "p3vPg3sTfYzf",
        "outputId": "b77696fd-0faf-4ce8-9b91-6e34d7b55885"
      },
      "execution_count": 25,
      "outputs": [
        {
          "output_type": "execute_result",
          "data": {
            "text/plain": [
              "array([[<matplotlib.axes._subplots.AxesSubplot object at 0x7fe5da165dd0>]],\n",
              "      dtype=object)"
            ]
          },
          "metadata": {},
          "execution_count": 25
        },
        {
          "output_type": "display_data",
          "data": {
            "text/plain": [
              "<Figure size 432x288 with 1 Axes>"
            ],
            "image/png": "[encoded data removed]"
          },
          "metadata": {
            "needs_background": "light"
          }
        }
      ]
    },
    {
      "cell_type": "code",
      "source": [
        "correlation = insurance_data.corr()\n",
        "plt.figure(figsize=(16,12))\n",
        "sns.heatmap(correlation ,annot =True, cmap =\"RdYlGn\")"
      ],
      "metadata": {
        "id": "8aHxRTAgf_i_"
      },
      "execution_count": null,
      "outputs": []
    },
    {
      "cell_type": "code",
      "source": [
        "\n",
        "requiredinput = insurance_data.drop(\"charges\", axis=1)\n",
        "requiredtarget = insurance_data['charges'].values\n"
      ],
      "metadata": {
        "id": "YscZpcAdaSwO"
      },
      "execution_count": 26,
      "outputs": []
    },
    {
      "cell_type": "code",
      "source": [
        "print(requiredinput.shape)\n",
        "print(requiredtarget.shape)"
      ],
      "metadata": {
        "colab": {
          "base_uri": "https://localhost:8080/"
        },
        "id": "NELpyG7ne3_j",
        "outputId": "da9a81ff-15ab-4a4c-85e7-9d9817658dd7"
      },
      "execution_count": 27,
      "outputs": [
        {
          "output_type": "stream",
          "name": "stdout",
          "text": [
            "(1338, 6)\n",
            "(1338,)\n"
          ]
        }
      ]
    },
    {
      "cell_type": "code",
      "source": [
        "from sklearn.model_selection import train_test_split\n",
        "X_train,X_test,y_train,y_test = train_test_split(requiredinput,requiredtarget,test_size=0.3,random_state=0)\n",
        "print(X_train.shape)\n",
        "print(X_test.shape)"
      ],
      "metadata": {
        "colab": {
          "base_uri": "https://localhost:8080/"
        },
        "id": "fVlfbKR8aHq0",
        "outputId": "a30cce8d-a95d-40b3-cdc3-2c541cb931e6"
      },
      "execution_count": 28,
      "outputs": [
        {
          "output_type": "stream",
          "name": "stdout",
          "text": [
            "(936, 6)\n",
            "(402, 6)\n"
          ]
        }
      ]
    },
    {
      "cell_type": "code",
      "source": [
        "from sklearn.neighbors import KNeighborsClassifier\n",
        "from sklearn.multiclass import OneVsRestClassifier\n",
        "model1= OneVsRestClassifier(KNeighborsClassifier())\n",
        "model1.fit(X_train, y_train)\n",
        "\n",
        "prediction = model1.predict(X_test)"
      ],
      "metadata": {
        "colab": {
          "base_uri": "https://localhost:8080/",
          "height": 1000
        },
        "id": "0bavEb-yfswx",
        "outputId": "e0ab9bc5-9017-4d7f-e398-802c577b9d19"
      },
      "execution_count": 29,
      "outputs": [
        {
          "output_type": "error",
          "ename": "ValueError",
          "evalue": "ignored",
          "traceback": [
            "\u001b[0;31m---------------------------------------------------------------------------\u001b[0m",
            "\u001b[0;31mValueError\u001b[0m                                Traceback (most recent call last)",
            "\u001b[0;32m<ipython-input-29-e92718aa9038>\u001b[0m in \u001b[0;36m<module>\u001b[0;34m\u001b[0m\n\u001b[1;32m      2\u001b[0m \u001b[0;32mfrom\u001b[0m \u001b[0msklearn\u001b[0m\u001b[0;34m.\u001b[0m\u001b[0mmulticlass\u001b[0m \u001b[0;32mimport\u001b[0m \u001b[0mOneVsRestClassifier\u001b[0m\u001b[0;34m\u001b[0m\u001b[0;34m\u001b[0m\u001b[0m\n\u001b[1;32m      3\u001b[0m \u001b[0mmodel1\u001b[0m\u001b[0;34m=\u001b[0m \u001b[0mOneVsRestClassifier\u001b[0m\u001b[0;34m(\u001b[0m\u001b[0mKNeighborsClassifier\u001b[0m\u001b[0;34m(\u001b[0m\u001b[0;34m)\u001b[0m\u001b[0;34m)\u001b[0m\u001b[0;34m\u001b[0m\u001b[0;34m\u001b[0m\u001b[0m\n\u001b[0;32m----> 4\u001b[0;31m \u001b[0mmodel1\u001b[0m\u001b[0;34m.\u001b[0m\u001b[0mfit\u001b[0m\u001b[0;34m(\u001b[0m\u001b[0mX_train\u001b[0m\u001b[0;34m,\u001b[0m \u001b[0my_train\u001b[0m\u001b[0;34m)\u001b[0m\u001b[0;34m\u001b[0m\u001b[0;34m\u001b[0m\u001b[0m\n\u001b[0m\u001b[1;32m      5\u001b[0m \u001b[0;34m\u001b[0m\u001b[0m\n\u001b[1;32m      6\u001b[0m \u001b[0mprediction\u001b[0m \u001b[0;34m=\u001b[0m \u001b[0mmodel1\u001b[0m\u001b[0;34m.\u001b[0m\u001b[0mpredict\u001b[0m\u001b[0;34m(\u001b[0m\u001b[0mX_test\u001b[0m\u001b[0;34m)\u001b[0m\u001b[0;34m\u001b[0m\u001b[0;34m\u001b[0m\u001b[0m\n",
            "\u001b[0;32m/usr/local/lib/python3.7/dist-packages/sklearn/multiclass.py\u001b[0m in \u001b[0;36mfit\u001b[0;34m(self, X, y)\u001b[0m\n\u001b[1;32m    328\u001b[0m         \u001b[0;31m# overall.\u001b[0m\u001b[0;34m\u001b[0m\u001b[0;34m\u001b[0m\u001b[0;34m\u001b[0m\u001b[0m\n\u001b[1;32m    329\u001b[0m         \u001b[0mself\u001b[0m\u001b[0;34m.\u001b[0m\u001b[0mlabel_binarizer_\u001b[0m \u001b[0;34m=\u001b[0m \u001b[0mLabelBinarizer\u001b[0m\u001b[0;34m(\u001b[0m\u001b[0msparse_output\u001b[0m\u001b[0;34m=\u001b[0m\u001b[0;32mTrue\u001b[0m\u001b[0;34m)\u001b[0m\u001b[0;34m\u001b[0m\u001b[0;34m\u001b[0m\u001b[0m\n\u001b[0;32m--> 330\u001b[0;31m         \u001b[0mY\u001b[0m \u001b[0;34m=\u001b[0m \u001b[0mself\u001b[0m\u001b[0;34m.\u001b[0m\u001b[0mlabel_binarizer_\u001b[0m\u001b[0;34m.\u001b[0m\u001b[0mfit_transform\u001b[0m\u001b[0;34m(\u001b[0m\u001b[0my\u001b[0m\u001b[0;34m)\u001b[0m\u001b[0;34m\u001b[0m\u001b[0;34m\u001b[0m\u001b[0m\n\u001b[0m\u001b[1;32m    331\u001b[0m         \u001b[0mY\u001b[0m \u001b[0;34m=\u001b[0m \u001b[0mY\u001b[0m\u001b[0;34m.\u001b[0m\u001b[0mtocsc\u001b[0m\u001b[0;34m(\u001b[0m\u001b[0;34m)\u001b[0m\u001b[0;34m\u001b[0m\u001b[0;34m\u001b[0m\u001b[0m\n\u001b[1;32m    332\u001b[0m         \u001b[0mself\u001b[0m\u001b[0;34m.\u001b[0m\u001b[0mclasses_\u001b[0m \u001b[0;34m=\u001b[0m \u001b[0mself\u001b[0m\u001b[0;34m.\u001b[0m\u001b[0mlabel_binarizer_\u001b[0m\u001b[0;34m.\u001b[0m\u001b[0mclasses_\u001b[0m\u001b[0;34m\u001b[0m\u001b[0;34m\u001b[0m\u001b[0m\n",
            "\u001b[0;32m/usr/local/lib/python3.7/dist-packages/sklearn/preprocessing/_label.py\u001b[0m in \u001b[0;36mfit_transform\u001b[0;34m(self, y)\u001b[0m\n\u001b[1;32m    322\u001b[0m             \u001b[0mwill\u001b[0m \u001b[0mbe\u001b[0m \u001b[0mof\u001b[0m \u001b[0mCSR\u001b[0m \u001b[0mformat\u001b[0m\u001b[0;34m.\u001b[0m\u001b[0;34m\u001b[0m\u001b[0;34m\u001b[0m\u001b[0m\n\u001b[1;32m    323\u001b[0m         \"\"\"\n\u001b[0;32m--> 324\u001b[0;31m         \u001b[0;32mreturn\u001b[0m \u001b[0mself\u001b[0m\u001b[0;34m.\u001b[0m\u001b[0mfit\u001b[0m\u001b[0;34m(\u001b[0m\u001b[0my\u001b[0m\u001b[0;34m)\u001b[0m\u001b[0;34m.\u001b[0m\u001b[0mtransform\u001b[0m\u001b[0;34m(\u001b[0m\u001b[0my\u001b[0m\u001b[0;34m)\u001b[0m\u001b[0;34m\u001b[0m\u001b[0;34m\u001b[0m\u001b[0m\n\u001b[0m\u001b[1;32m    325\u001b[0m \u001b[0;34m\u001b[0m\u001b[0m\n\u001b[1;32m    326\u001b[0m     \u001b[0;32mdef\u001b[0m \u001b[0mtransform\u001b[0m\u001b[0;34m(\u001b[0m\u001b[0mself\u001b[0m\u001b[0;34m,\u001b[0m \u001b[0my\u001b[0m\u001b[0;34m)\u001b[0m\u001b[0;34m:\u001b[0m\u001b[0;34m\u001b[0m\u001b[0;34m\u001b[0m\u001b[0m\n",
            "\u001b[0;32m/usr/local/lib/python3.7/dist-packages/sklearn/preprocessing/_label.py\u001b[0m in \u001b[0;36mfit\u001b[0;34m(self, y)\u001b[0m\n\u001b[1;32m    299\u001b[0m \u001b[0;34m\u001b[0m\u001b[0m\n\u001b[1;32m    300\u001b[0m         \u001b[0mself\u001b[0m\u001b[0;34m.\u001b[0m\u001b[0msparse_input_\u001b[0m \u001b[0;34m=\u001b[0m \u001b[0msp\u001b[0m\u001b[0;34m.\u001b[0m\u001b[0missparse\u001b[0m\u001b[0;34m(\u001b[0m\u001b[0my\u001b[0m\u001b[0;34m)\u001b[0m\u001b[0;34m\u001b[0m\u001b[0;34m\u001b[0m\u001b[0m\n\u001b[0;32m--> 301\u001b[0;31m         \u001b[0mself\u001b[0m\u001b[0;34m.\u001b[0m\u001b[0mclasses_\u001b[0m \u001b[0;34m=\u001b[0m \u001b[0munique_labels\u001b[0m\u001b[0;34m(\u001b[0m\u001b[0my\u001b[0m\u001b[0;34m)\u001b[0m\u001b[0;34m\u001b[0m\u001b[0;34m\u001b[0m\u001b[0m\n\u001b[0m\u001b[1;32m    302\u001b[0m         \u001b[0;32mreturn\u001b[0m \u001b[0mself\u001b[0m\u001b[0;34m\u001b[0m\u001b[0;34m\u001b[0m\u001b[0m\n\u001b[1;32m    303\u001b[0m \u001b[0;34m\u001b[0m\u001b[0m\n",
            "\u001b[0;32m/usr/local/lib/python3.7/dist-packages/sklearn/utils/multiclass.py\u001b[0m in \u001b[0;36munique_labels\u001b[0;34m(*ys)\u001b[0m\n\u001b[1;32m     99\u001b[0m     \u001b[0m_unique_labels\u001b[0m \u001b[0;34m=\u001b[0m \u001b[0m_FN_UNIQUE_LABELS\u001b[0m\u001b[0;34m.\u001b[0m\u001b[0mget\u001b[0m\u001b[0;34m(\u001b[0m\u001b[0mlabel_type\u001b[0m\u001b[0;34m,\u001b[0m \u001b[0;32mNone\u001b[0m\u001b[0;34m)\u001b[0m\u001b[0;34m\u001b[0m\u001b[0;34m\u001b[0m\u001b[0m\n\u001b[1;32m    100\u001b[0m     \u001b[0;32mif\u001b[0m \u001b[0;32mnot\u001b[0m \u001b[0m_unique_labels\u001b[0m\u001b[0;34m:\u001b[0m\u001b[0;34m\u001b[0m\u001b[0;34m\u001b[0m\u001b[0m\n\u001b[0;32m--> 101\u001b[0;31m         \u001b[0;32mraise\u001b[0m \u001b[0mValueError\u001b[0m\u001b[0;34m(\u001b[0m\u001b[0;34m\"Unknown label type: %s\"\u001b[0m \u001b[0;34m%\u001b[0m \u001b[0mrepr\u001b[0m\u001b[0;34m(\u001b[0m\u001b[0mys\u001b[0m\u001b[0;34m)\u001b[0m\u001b[0;34m)\u001b[0m\u001b[0;34m\u001b[0m\u001b[0;34m\u001b[0m\u001b[0m\n\u001b[0m\u001b[1;32m    102\u001b[0m \u001b[0;34m\u001b[0m\u001b[0m\n\u001b[1;32m    103\u001b[0m     \u001b[0mys_labels\u001b[0m \u001b[0;34m=\u001b[0m \u001b[0mset\u001b[0m\u001b[0;34m(\u001b[0m\u001b[0mchain\u001b[0m\u001b[0;34m.\u001b[0m\u001b[0mfrom_iterable\u001b[0m\u001b[0;34m(\u001b[0m\u001b[0m_unique_labels\u001b[0m\u001b[0;34m(\u001b[0m\u001b[0my\u001b[0m\u001b[0;34m)\u001b[0m \u001b[0;32mfor\u001b[0m \u001b[0my\u001b[0m \u001b[0;32min\u001b[0m \u001b[0mys\u001b[0m\u001b[0;34m)\u001b[0m\u001b[0;34m)\u001b[0m\u001b[0;34m\u001b[0m\u001b[0;34m\u001b[0m\u001b[0m\n",
            "\u001b[0;31mValueError\u001b[0m: Unknown label type: (array([ 2200.83085,  5649.715  , 12592.5345 ,  7419.4779 ,  5261.46945,\n        1744.465  , 36898.73308, 13143.86485,  6781.3542 , 12981.3457 ,\n        8556.907  , 12479.70895, 48824.45   ,  3443.064  ,  7935.29115,\n       16586.49771, 14590.63205,  1532.4697 ,  6933.24225,  2217.46915,\n       11856.4115 , 19214.70553, 11534.87265, 40974.1649 ,  4889.0368 ,\n       33907.548  , 16776.30405, 10982.5013 ,  8026.6666 , 44501.3982 ,\n        8280.6227 ,  3736.4647 ,  9058.7303 , 18767.7377 , 36197.699  ,\n       19107.7796 , 25656.57526, 39125.33225,  3906.127  , 17085.2676 ,\n        3021.80915, 36397.576  ,  4449.462  , 11396.9002 ,  1622.1885 ,\n       41919.097  ,  8944.1151 ,  4391.652  ,  4005.4225 ,  8930.93455,\n        9447.25035,  7731.85785, 11576.13   ,  3757.8448 ,  2154.361  ,\n        3056.3881 ,  3956.07145,  7526.70645, 34439.8559 , 12928.7911 ,\n        7152.6714 , 26236.57997, 11743.9341 ,  1769.53165, 10825.2537 ,\n       10796.35025,  4296.2712 ,  1632.03625, 44202.6536 ,  7623.518  ,\n       28340.18885,  3594.17085, 24513.09126,  5488.262  , 11842.442  ,\n       17748.5062 , 33900.653  ,  9566.9909 ,  8017.06115,  1711.0268 ,\n        4239.89265,  8302.53565,  2130.6759 ,  9855.1314 ,  1743.214  ,\n        3392.3652 , 40103.89   ,  6250.435  ,  7265.7025 ,  3989.841  ,\n       21195.818  , 10407.08585, 12797.20962,  4934.705  ,  6123.5688 ,\n        4915.05985,  1534.3045 ,  8703.456  , 21677.28345,  5116.5004 ,\n       46200.9851 ,  9957.7216 ,  6775.961  ,  3046.062  ,  6360.9936 ,\n       39722.7462 ,  1906.35825, 11737.84884,  8835.26495,  8520.026  ,\n        2217.6012 , 11938.25595, 13047.33235, 35585.576  , 12124.9924 ,\n        7443.64305, 13393.756  , 14254.6082 , 36307.7983 ,  8023.13545,\n       11353.2276 , 20462.99766,  3645.0894 , 35595.5898 ,  4673.3922 ,\n       19350.3689 , 18806.14547,  4399.731  , 10560.4917 , 10579.711  ,\n        5397.6167 ,  1967.0227 ,  1146.7966 ,  1639.5631 ,  3227.1211 ,\n        1731.677  , 13430.265  ,  3213.62205,  7348.142  ,  9048.0273 ,\n       11743.299  ,  6571.02435, 12557.6053 ,  2196.4732 ,  9174.13565,\n        5138.2567 ,  7421.19455, 12363.547  , 11840.77505, 20745.9891 ,\n       13063.883  ,  8062.764  ,  7256.7231 , 26392.26029,  5385.3379 ,\n       11033.6617 ,  7077.1894 ,  5266.3656 , 21880.82   , 10713.644  ,\n        9634.538  , 12913.9924 , 10269.46   ,  5125.2157 ,  3484.331  ,\n        5080.096  ,  6402.29135,  1704.70015,  7243.8136 ,  3201.24515,\n        5267.81815, 12235.8392 ,  3554.203  ,  3766.8838 ,  2219.4451 ,\n        2302.3    ,  4347.02335, 18157.876  , 22395.74424, 36950.2567 ,\n       12957.118  ,  9872.701  , 44423.803  ,  1634.5734 , 12430.95335,\n        1615.7667 ,  5253.524  , 17178.6824 , 10106.13425,  5227.98875,\n       13635.6379 , 10065.413  , 39597.4072 , 30166.61817,  6112.35295,\n       12044.342  , 19444.2658 ,  1631.8212 ,  8604.48365,  3994.1778 ,\n        1621.8827 , 24667.419  , 33307.5508 , 20781.48892, 14358.36437,\n        6985.50695, 24393.6224 , 24869.8368 ,  8240.5896 , 17179.522  ,\n       39774.2763 ,  4340.4409 , 23807.2406 ,  8601.3293 , 24535.69855,\n       17560.37975, 12622.1795 ,  9563.029  , 16796.41194, 13228.84695,\n       35160.13457,  2211.13075, 10450.552  , 11411.685  ,  2203.73595,\n        6311.952  , 24873.3849 ,  1694.7964 ,  2473.3341 , 11015.1747 ,\n       13143.33665,  6653.7886 ,  1121.8739 , 60021.39897,  1980.07   ,\n       10977.2063 , 20177.67113,  2483.736  ,  4536.259  , 25992.82104,\n       16455.70785,  6128.79745, 46599.1084 , 32108.66282, 11658.11505,\n        1826.843  ,  9866.30485, 16138.76205,  5920.1041 ,  2026.9741 ,\n        7418.522  , 15006.57945,  7639.41745, 11520.09985,  9095.06825,\n       12646.207  ,  4134.08245,  1621.3402 ,  1515.3449 , 34806.4677 ,\n        6272.4772 , 13880.949  ,  3353.284  , 41661.602  ,  1748.774  ,\n        7640.3092 ,  8891.1395 , 11362.755  ,  7742.1098 ,  1728.897  ,\n        6799.458  , 10923.9332 ,  8538.28845,  2416.955  , 18648.4217 ,\n       12574.049  , 11381.3254 ,  2156.7518 ,  3947.4131 , 12629.8967 ,\n        1984.4533 ,  3471.4096 ,  5257.50795, 13429.0354 ,  1664.9996 ,\n        9182.17   ,  2801.2588 ,  2304.0022 ,  7209.4918 ,  4074.4537 ,\n        2709.1119 , 12629.1656 ,  8782.469  , 47896.79135, 10085.846  ,\n       38245.59327, 15518.18025, 13937.6665 ,  6770.1925 ,  4931.647  ,\n        3393.35635,  8688.85885, 15230.32405,  4415.1588 ,  2710.82855,\n        2897.3235 , 10436.096  ,  3761.292  , 13204.28565,  8968.33   ,\n        6600.20595, 12233.828  , 27037.9141 , 11830.6072 , 11454.0215 ,\n       19040.876  ,  2395.17155,  2913.569  ,  7633.7206 ,  1141.4451 ,\n        6414.178  ,  1135.9407 ,  6184.2994 , 20167.33603,  8124.4084 ,\n        4350.5144 ,  4032.2407 , 13405.3903 ,  3500.6123 ,  2007.945  ,\n        1632.56445,  8582.3023 ,  8442.667  ,  2755.02095,  5699.8375 ,\n        4889.9995 ,  8522.003  , 41676.0811 ,  4618.0799 ,  1261.859  ,\n       11150.78   ,  6686.4313 ,  7144.86265, 21232.18226,  9225.2564 ,\n        3693.428  ,  4149.736  , 17929.30337, 34472.841  , 12829.4551 ,\n        7196.867  ,  3875.7341 ,  1625.43375, 15359.1045 ,  3943.5954 ,\n        3077.0955 ,  3171.6149 , 17904.52705, 15161.5344 , 47055.5321 ,\n       36580.28216, 27000.98473,  1880.07   , 17468.9839 , 11326.71487,\n        6435.6237 ,  6356.2707 ,  1263.249  ,  8116.68   , 46130.5265 ,\n       17352.6803 ,  2020.5523 , 13462.52   , 38282.7495 ,  5469.0066 ,\n       18765.87545, 24671.66334,  7740.337  ,  8603.8234 ,  6948.7008 ,\n        2850.68375, 12129.61415, 27322.73386,  3385.39915, 11881.9696 ,\n       14235.072  , 15817.9857 , 14382.70905, 18259.216  , 18328.2381 ,\n        6748.5912 ,  9283.562  , 43896.3763 , 10338.9316 ,  8823.279  ,\n       11253.421  ,  7345.7266 ,  6186.127  ,  4661.28635, 25081.76784,\n       18246.4955 , 19144.57652, 11488.31695,  1242.26   ,  5012.471  ,\n        2138.0707 , 10594.2257 ,  7749.1564 ,  7153.5539 , 37607.5277 ,\n        9861.025  ,  1526.312  , 24476.47851, 11244.3769 ,  5240.765  ,\n       12644.589  , 10422.91665,  9411.005  ,  6666.243  ,  5003.853  ,\n        1877.9294 , 49577.6624 , 14394.5579 , 12495.29085,  5584.3057 ,\n        3579.8287 , 11070.535  , 14133.03775, 15828.82173, 10381.4787 ,\n        1137.011  ,  1391.5287 ,  8233.0975 ,  3392.9768 ,  4779.6023 ,\n       10197.7722 , 12890.05765, 16115.3045 ,  2134.9015 ,  4337.7352 ,\n        4454.40265,  8027.968  , 27724.28875,  9504.3103 , 12485.8009 ,\n       18033.9679 , 43753.33705,  3260.199  , 44400.4064 , 12609.88702,\n        8083.9198 ,  5272.1758 ,  4076.497  , 37079.372  , 11163.568  ,\n        9910.35985,  5246.047  ,  2104.1134 , 16069.08475, 20773.62775,\n        3167.45585,  6358.77645,  1163.4627 , 10791.96   , 10848.1343 ,\n        4237.12655,  4992.3764 , 12105.32   , 16420.49455, 14410.9321 ,\n       36189.1017 , 13470.86   ,  7726.854  , 11082.5772 ,  8569.8618 ,\n        8068.185  , 14449.8544 , 16884.924  , 39983.42595,  9863.4718 ,\n        8964.06055, 35147.52848,  2632.992  ,  3857.75925,  3877.30425,\n        8334.45755, 46661.4424 , 39727.614  , 34779.615  , 11363.2832 ,\n       42760.5022 , 48673.5588 , 21344.8467 , 17043.3414 ,  3659.346  ,\n       28868.6639 ,  5002.7827 , 10264.4421 ,  2155.6815 , 42111.6647 ,\n       12648.7034 ,  7201.70085, 12096.6512 ,  4571.41305,  9288.0267 ,\n       36124.5737 ,  6548.19505, 16450.8947 ,  9778.3472 ,  1832.094  ,\n       40419.0191 , 14451.83515,  4402.233  ,  9625.92   , 18608.262  ,\n        7160.094  ,  2585.269  ,  2020.177  ,  8965.79575, 21984.47061,\n        2457.21115, 11657.7189 , 24603.04837, 42112.2356 , 10976.24575,\n        2459.7201 ,  3704.3545 , 21259.37795,  9487.6442 ,  2221.56445,\n       43813.8661 ,  7358.17565, 44641.1974 ,  4466.6214 , 11987.1682 ,\n        2689.4954 , 36021.0112 ,  3481.868  ,  9748.9106 , 10072.05505,\n        8232.6388 , 28950.4692 , 11289.10925, 16085.1275 , 30063.58055,\n       46151.1245 ,  4686.3887 , 21774.32215, 12032.326  ,  4133.64165,\n        5979.731  , 10928.849  , 10043.249  ,  4463.2051 ,  9800.8882 ,\n        1628.4709 ,  4646.759  , 10704.47   ,  2904.088  , 12925.886  ,\n       58571.07448,  9414.92   , 17081.08   , 33750.2918 , 10325.206  ,\n       10959.6947 , 11264.541  ,  2480.9791 , 21659.9301 , 14119.62   ,\n       19798.05455,  3577.999  ,  2045.68525, 38344.566  ,  7281.5056 ,\n       22218.1149 , 24106.91255, 39047.285  ,  1977.815  , 27117.99378,\n       12029.2867 ,  6289.7549 , 38711.     , 19594.80965,  8539.671  ,\n       37829.7242 ,  9620.3307 , 12404.8791 ,  5209.57885, 19964.7463 ,\n        6373.55735, 13887.204  , 13981.85035, 19442.3535 ,  2207.69745,\n        3866.8552 , 22331.5668 ,  4357.04365, 13725.47184, 11931.12525,\n       13607.36875,  9264.797  ,  4753.6368 , 14474.675  , 20878.78443,\n       23288.9284 ,  5708.867  , 34672.1472 , 26926.5144 ,  8551.347  ,\n        6986.697  ,  7624.63   ,  2438.0552 ,  5974.3847 , 13831.1152 ,\n       37484.4493 ,  9875.6804 ,  8125.7845 ,  2709.24395, 11090.7178 ,\n        1712.227  , 10156.7832 , 13390.559  , 13844.7972 ,  6059.173  ,\n       11674.13   ,  5152.134  , 12142.5786 ,  5989.52365,  5615.369  ,\n        4762.329  ,  1875.344  , 11394.06555,  2250.8352 , 13126.67745,\n        5926.846  , 12741.16745,  6849.026  ,  7162.0122 , 55135.40209,\n        4438.2634 ,  3861.20965,  9549.5651 ,  5478.0368 , 11286.5387 ,\n        9850.432  , 11165.41765,  9101.798  ,  8527.532  , 31620.00106,\n        8252.2843 ,  8823.98575, 29330.98315,  2497.0383 ,  7046.7222 ,\n       48549.17835, 10096.97   ,  4234.927  , 12146.971  ,  4719.73655,\n       47462.894  , 39725.51805, 21797.0004 ,  1242.816  ,  9877.6077 ,\n       21348.706  , 19539.243  , 10965.446  ,  4527.18295,  2396.0959 ,\n       11365.952  ,  3558.62025,  5028.1466 ,  2331.519  , 20234.85475,\n       23306.547  , 41949.2441 ,  9144.565  , 15555.18875,  8211.1002 ,\n       47269.854  ,  5729.0053 ,  3309.7926 , 12638.195  ,  6313.759  ,\n       46113.511  , 11305.93455,  7518.02535,  1727.54   ,  2464.6188 ,\n        4747.0529 , 11842.62375, 19719.6947 ,  8334.5896 ,  3292.52985,\n       17663.1442 , 21082.16   , 11455.28   , 18955.22017, 10564.8845 ,\n       40720.55105, 25309.489  , 38792.6856 ,  3044.2133 ,  8671.19125,\n        6455.86265,  1815.8759 ,  2719.27975, 18963.17192,  4795.6568 ,\n        6082.405  ,  4922.9159 ,  1261.442  , 23563.01618, 13555.0049 ,\n        8516.829  ,  3172.018  , 15612.19335,  7050.642  ,  1727.785  ,\n       10141.1362 , 13770.0979 , 24180.9335 , 34828.654  , 14349.8544 ,\n        6600.361  , 13352.0998 , 19023.26   , 14901.5167 , 18804.7524 ,\n       19496.71917, 26140.3603 , 19361.9988 ,  5245.2269 , 21978.6769 ,\n       11946.6259 ,  2136.88225, 11538.421  , 19933.458  ,  1702.4553 ,\n        2680.9493 ,  1136.3994 ,  6198.7518 , 34617.84065,  3537.703  ,\n       12094.478  ,  5373.36425, 12224.35085, 16657.71745,  9541.69555,\n       42211.1382 , 22462.04375,  6710.1919 , 24915.22085,  9704.66805,\n        6389.37785,  6203.90175, 10355.641  , 11013.7119 ,  9583.8933 ,\n        5630.45785, 11881.358  ,  4830.63   ,  2741.948  , 20984.0936 ,\n        2523.1695 ,  4949.7587 ,  8428.0693 , 11482.63485, 14256.1928 ,\n        2201.0971 ,  1705.6245 , 10600.5483 , 13470.8044 ,  6185.3208 ,\n        7954.517  , 27218.43725, 41999.52   , 14001.1338 , 19673.33573,\n        1842.519  , 25333.33284, 23887.6627 , 29186.48236, 27533.9129 ,\n       11945.1327 ,  7441.501  ,  8798.593  ,  2166.732  ,  3062.50825,\n        8627.5411 , 11566.30055, 11735.87905,  7512.267  , 25678.77845,\n        3161.454  , 16297.846  , 47291.055  , 10806.839  , 24915.04626,\n        9432.9253 , 48885.13561, 26109.32905,  6393.60345,  9715.841  ,\n       28476.73499, 40941.2854 , 36910.60803,  4687.797  , 20420.60465,\n        4151.0287 , 27941.28758, 27808.7251 ,  5966.8874 ,  5757.41345,\n       43578.9394 ,  5934.3798 ,  1981.5819 ,  7050.0213 ,  5855.9025 ,\n        7045.499  ,  9386.1613 ,  2494.022  ,  6610.1097 , 11093.6229 ,\n       44585.45587,  5709.1644 , 39556.4945 , 14007.222  ,  6238.298  ,\n       22412.6485 , 38126.2465 , 12815.44495, 37701.8768 ,  6474.013  ,\n        3847.674  , 13415.0381 ,  5846.9176 ,  8871.1517 , 35069.37452,\n        8116.26885,  1759.338  , 30284.64294,  2842.76075, 43921.1837 ,\n        6593.5083 ,  5693.4305 ,  4827.90495,  9193.8385 , 36085.219  ,\n       17496.306  , 12231.6136 ,  1252.407  , 20009.63365,  1241.565  ,\n        4529.477  , 18223.4512 , 13129.60345,  2527.81865,  7228.21565,\n        3208.787  , 13974.45555, 26467.09737,  7261.741  ,  2866.091  ,\n       37133.8982 , 39836.519  ,  7173.35995, 15170.069  ,  6571.544  ,\n       14988.432  , 10942.13205,  8988.15875, 23082.95533,  9869.8102 ,\n        6338.0756 , 20277.80751, 34303.1672 ,  5400.9805 ,  1682.597  ,\n       62592.87309,  8978.1851 ,  3176.8159 , 13822.803  ,  9617.66245,\n        7985.815  ,  2102.2647 ,  7133.9025 , 32734.1863 ,  2103.08   ,\n        2775.19215, 38415.474  ,  2585.85065, 11763.0009 ,  7222.78625,\n        7789.635  , 29523.1656 ,  2457.502  , 63770.42801, 10231.4999 ,\n       12949.1554 , 40273.6455 ,  7147.4728 ,  2727.3951 ,  2639.0429 ,\n       22478.6    , 14394.39815,  4719.52405, 11272.33139,  8733.22925,\n       15820.699  , 37270.1512 ,  5910.944  ,  5031.26955,  7804.1605 ,\n       30259.99556,  7448.40395, 11741.726  , 45008.9555 ,  8825.086  ,\n       10601.63225,  2855.43755, 11073.176  ,  3972.9247 ,  5375.038  ,\n       34838.873  ,  1633.0444 , 11299.343  , 33471.97189,  2150.469  ,\n       13747.87235,  3070.8087 ,  7160.3303 ,  5415.6612 ,  1646.4297 ,\n        4766.022  ]),)"
          ]
        }
      ]
    },
    {
      "cell_type": "code",
      "source": [
        "model1.score(X_test,y_test)\n",
        "print('Accuracy of Naive Bayes Classifier on training set:{:.2f}'.format(model1.score(X_train, y_train)))\n",
        "print('Accuracy of Naive Bayes Classifier on test set: {:.2f}'.format(model1.score(X_test, y_test)))"
      ],
      "metadata": {
        "colab": {
          "base_uri": "https://localhost:8080/",
          "height": 363
        },
        "id": "tFns7YpsgGnD",
        "outputId": "a2c27a55-c49c-4149-e52f-8e42cfe64ece"
      },
      "execution_count": 30,
      "outputs": [
        {
          "output_type": "error",
          "ename": "AttributeError",
          "evalue": "ignored",
          "traceback": [
            "\u001b[0;31m---------------------------------------------------------------------------\u001b[0m",
            "\u001b[0;31mAttributeError\u001b[0m                            Traceback (most recent call last)",
            "\u001b[0;32m<ipython-input-30-62789a46c7ea>\u001b[0m in \u001b[0;36m<module>\u001b[0;34m\u001b[0m\n\u001b[0;32m----> 1\u001b[0;31m \u001b[0mmodel1\u001b[0m\u001b[0;34m.\u001b[0m\u001b[0mscore\u001b[0m\u001b[0;34m(\u001b[0m\u001b[0mX_test\u001b[0m\u001b[0;34m,\u001b[0m\u001b[0my_test\u001b[0m\u001b[0;34m)\u001b[0m\u001b[0;34m\u001b[0m\u001b[0;34m\u001b[0m\u001b[0m\n\u001b[0m\u001b[1;32m      2\u001b[0m \u001b[0mprint\u001b[0m\u001b[0;34m(\u001b[0m\u001b[0;34m'Accuracy of Naive Bayes Classifier on training set:{:.2f}'\u001b[0m\u001b[0;34m.\u001b[0m\u001b[0mformat\u001b[0m\u001b[0;34m(\u001b[0m\u001b[0mmodel1\u001b[0m\u001b[0;34m.\u001b[0m\u001b[0mscore\u001b[0m\u001b[0;34m(\u001b[0m\u001b[0mX_train\u001b[0m\u001b[0;34m,\u001b[0m \u001b[0my_train\u001b[0m\u001b[0;34m)\u001b[0m\u001b[0;34m)\u001b[0m\u001b[0;34m)\u001b[0m\u001b[0;34m\u001b[0m\u001b[0;34m\u001b[0m\u001b[0m\n\u001b[1;32m      3\u001b[0m \u001b[0mprint\u001b[0m\u001b[0;34m(\u001b[0m\u001b[0;34m'Accuracy of Naive Bayes Classifier on test set: {:.2f}'\u001b[0m\u001b[0;34m.\u001b[0m\u001b[0mformat\u001b[0m\u001b[0;34m(\u001b[0m\u001b[0mmodel1\u001b[0m\u001b[0;34m.\u001b[0m\u001b[0mscore\u001b[0m\u001b[0;34m(\u001b[0m\u001b[0mX_test\u001b[0m\u001b[0;34m,\u001b[0m \u001b[0my_test\u001b[0m\u001b[0;34m)\u001b[0m\u001b[0;34m)\u001b[0m\u001b[0;34m)\u001b[0m\u001b[0;34m\u001b[0m\u001b[0;34m\u001b[0m\u001b[0m\n",
            "\u001b[0;32m/usr/local/lib/python3.7/dist-packages/sklearn/base.py\u001b[0m in \u001b[0;36mscore\u001b[0;34m(self, X, y, sample_weight)\u001b[0m\n\u001b[1;32m    649\u001b[0m         \u001b[0;32mfrom\u001b[0m \u001b[0;34m.\u001b[0m\u001b[0mmetrics\u001b[0m \u001b[0;32mimport\u001b[0m \u001b[0maccuracy_score\u001b[0m\u001b[0;34m\u001b[0m\u001b[0;34m\u001b[0m\u001b[0m\n\u001b[1;32m    650\u001b[0m \u001b[0;34m\u001b[0m\u001b[0m\n\u001b[0;32m--> 651\u001b[0;31m         \u001b[0;32mreturn\u001b[0m \u001b[0maccuracy_score\u001b[0m\u001b[0;34m(\u001b[0m\u001b[0my\u001b[0m\u001b[0;34m,\u001b[0m \u001b[0mself\u001b[0m\u001b[0;34m.\u001b[0m\u001b[0mpredict\u001b[0m\u001b[0;34m(\u001b[0m\u001b[0mX\u001b[0m\u001b[0;34m)\u001b[0m\u001b[0;34m,\u001b[0m \u001b[0msample_weight\u001b[0m\u001b[0;34m=\u001b[0m\u001b[0msample_weight\u001b[0m\u001b[0;34m)\u001b[0m\u001b[0;34m\u001b[0m\u001b[0;34m\u001b[0m\u001b[0m\n\u001b[0m\u001b[1;32m    652\u001b[0m \u001b[0;34m\u001b[0m\u001b[0m\n\u001b[1;32m    653\u001b[0m     \u001b[0;32mdef\u001b[0m \u001b[0m_more_tags\u001b[0m\u001b[0;34m(\u001b[0m\u001b[0mself\u001b[0m\u001b[0;34m)\u001b[0m\u001b[0;34m:\u001b[0m\u001b[0;34m\u001b[0m\u001b[0;34m\u001b[0m\u001b[0m\n",
            "\u001b[0;32m/usr/local/lib/python3.7/dist-packages/sklearn/multiclass.py\u001b[0m in \u001b[0;36mpredict\u001b[0;34m(self, X)\u001b[0m\n\u001b[1;32m    446\u001b[0m             \u001b[0;32mreturn\u001b[0m \u001b[0mself\u001b[0m\u001b[0;34m.\u001b[0m\u001b[0mclasses_\u001b[0m\u001b[0;34m[\u001b[0m\u001b[0margmaxima\u001b[0m\u001b[0;34m]\u001b[0m\u001b[0;34m\u001b[0m\u001b[0;34m\u001b[0m\u001b[0m\n\u001b[1;32m    447\u001b[0m         \u001b[0;32melse\u001b[0m\u001b[0;34m:\u001b[0m\u001b[0;34m\u001b[0m\u001b[0;34m\u001b[0m\u001b[0m\n\u001b[0;32m--> 448\u001b[0;31m             if hasattr(self.estimators_[0], \"decision_function\") and is_classifier(\n\u001b[0m\u001b[1;32m    449\u001b[0m                 \u001b[0mself\u001b[0m\u001b[0;34m.\u001b[0m\u001b[0mestimators_\u001b[0m\u001b[0;34m[\u001b[0m\u001b[0;36m0\u001b[0m\u001b[0;34m]\u001b[0m\u001b[0;34m\u001b[0m\u001b[0;34m\u001b[0m\u001b[0m\n\u001b[1;32m    450\u001b[0m             ):\n",
            "\u001b[0;31mAttributeError\u001b[0m: 'OneVsRestClassifier' object has no attribute 'estimators_'"
          ]
        }
      ]
    },
    {
      "cell_type": "markdown",
      "source": [
        "# 5. MODEL SELECTION"
      ],
      "metadata": {
        "id": "BbA5qu4PAZ1N"
      }
    },
    {
      "cell_type": "markdown",
      "source": [
        "* Select several regression models and train them with the preprocessed data.\n",
        "* Examine the performances of the selected models using cross validation.\n",
        "* Choose the best performing model"
      ],
      "metadata": {
        "id": "jr3XlKnvEafq"
      }
    },
    {
      "cell_type": "code",
      "source": [],
      "metadata": {
        "id": "8bT1Pdo6EWkv"
      },
      "execution_count": null,
      "outputs": []
    },
    {
      "cell_type": "code",
      "source": [],
      "metadata": {
        "id": "viUYHaC3AiuK"
      },
      "execution_count": null,
      "outputs": []
    },
    {
      "cell_type": "markdown",
      "source": [],
      "metadata": {
        "id": "OIur1fTIE-sU"
      }
    },
    {
      "cell_type": "markdown",
      "source": [
        "# 6. HYPER PARAMETER OPTIMIZATION:"
      ],
      "metadata": {
        "id": "XACZnSY5AjGR"
      }
    },
    {
      "cell_type": "markdown",
      "source": [
        "* Optimize the hyper-parameters of the model selected in the previous step.\n",
        "* Optimize parameters with Grid Search. (Grid Search or Randomized Search)"
      ],
      "metadata": {
        "id": "WWY7xRKoFBTw"
      }
    },
    {
      "cell_type": "code",
      "source": [],
      "metadata": {
        "id": "_dWWiXyDAxWQ"
      },
      "execution_count": null,
      "outputs": []
    },
    {
      "cell_type": "markdown",
      "source": [
        "# 7. MODEL EVALUATION"
      ],
      "metadata": {
        "id": "JLa4O_kdAwft"
      }
    },
    {
      "cell_type": "markdown",
      "source": [
        "Evaluate the optimized model using regression model evaluation metrics. (Ex. Mean Squared Error, Mean Absolute Error etc.)"
      ],
      "metadata": {
        "id": "Re6oCrLWFLjs"
      }
    },
    {
      "cell_type": "code",
      "source": [],
      "metadata": {
        "id": "mOxAIiHXFSCE"
      },
      "execution_count": null,
      "outputs": []
    },
    {
      "cell_type": "markdown",
      "source": [
        "# 8. PROJECT DELIVERY\n",
        "* For the project, you need to prepare a code file with the extension of .ipynb and run all the cells.\n",
        "* You need to add these files that you have prepared to a GitHub repo and add the link of this repo to the form that is given down below.\n",
        "* The project will be done as a team. The teams created should be a maximum of 3\n",
        "people.\n",
        "* You can send information about your project team via this form.\n",
        "* Form Link: [(https://forms.gle/mVFcRmhk9magezw26)]\n",
        "* Deadline: 10.10.2022"
      ],
      "metadata": {
        "id": "ySkgZQL0KZQy"
      }
    }
  ]
}